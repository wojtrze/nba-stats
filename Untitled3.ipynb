{
 "cells": [
  {
   "cell_type": "code",
   "execution_count": 36,
   "id": "aacc9195-63a0-486c-afe7-63313563b22c",
   "metadata": {},
   "outputs": [
    {
     "name": "stdout",
     "output_type": "stream",
     "text": [
      "[{'name': 'James, LeBron', 'odds': 1890, 'line': 38500, 'bet_type': 'ARP', 'name_ESPN': 'LeBronJames'}, {'name': 'Westbrook, Russell', 'odds': 1890, 'line': 33500, 'bet_type': 'ARP', 'name_ESPN': 'RussellWestbrook'}, {'name': 'Davis, Anthony', 'odds': 1890, 'line': 35500, 'bet_type': 'ARP', 'name_ESPN': 'AnthonyDavis'}, {'name': 'Bazemore, Kent', 'odds': 1890, 'line': 13500, 'bet_type': 'ARP', 'name_ESPN': 'KentBazemore'}, {'name': 'Jackson Jr, Jaren', 'odds': 1890, 'line': 24500, 'bet_type': 'ARP', 'name_ESPN': 'JarenJackson Jr'}, {'name': 'Bane, Desmond', 'odds': 1890, 'line': 18500, 'bet_type': 'ARP', 'name_ESPN': 'DesmondBane'}, {'name': 'Adams, Steven', 'odds': 1890, 'line': 19500, 'bet_type': 'ARP', 'name_ESPN': 'StevenAdams'}, {'name': \"Melton, De'Anthony\", 'odds': 1890, 'line': 22500, 'bet_type': 'ARP', 'name_ESPN': \"De'AnthonyMelton\"}, {'name': 'Rondo, Rajon', 'odds': 1890, 'line': 11500, 'bet_type': 'ARP', 'name_ESPN': 'RajonRondo'}, {'name': 'Morant, Ja', 'odds': 1890, 'line': 37500, 'bet_type': 'ARP', 'name_ESPN': 'JaMorant'}, {'name': 'Monk, Malik', 'odds': 1890, 'line': 11500, 'bet_type': 'ARP', 'name_ESPN': 'MalikMonk'}, {'name': 'Anthony, Carmelo', 'odds': 1890, 'line': 16500, 'bet_type': 'ARP', 'name_ESPN': 'CarmeloAnthony'}]\n"
     ]
    }
   ],
   "source": [
    "import requests\n",
    "import json\n",
    "import pandas as pd\n",
    "\n",
    "GAMES = [1008151243,\n",
    "         1008151236,\n",
    "         1008151233,\n",
    "         1008151336,\n",
    "         1008151238,\n",
    "         1008151231,\n",
    "         1007972409,\n",
    "         1007972410,\n",
    "         1007972411,\n",
    "         1007972412,\n",
    "         1007972413]\n",
    "\n",
    "headers = {'User-Agent': 'Mozilla/5.0 (Windows NT 6.1; WOW64; rv:20.0) Gecko/20100101 Firefox/20.0'}\n",
    "\n",
    "# w offers z jsona szukam zakładów na ARP\n",
    "def game_betoffer_list(event_id):\n",
    "    url = f\"https://eu-offering.kambicdn.org/offering/v2018/ub/betoffer/event/{event_id}.json?lang=pl_PL&market=PL&ncid=1635352620\"\n",
    "    resp = requests.get(url, headers)\n",
    "    a = resp.json()\n",
    "    offers = a['betOffers']\n",
    "    all_offers = []\n",
    "    for betoffer in offers:\n",
    "        if betoffer['criterion']['englishLabel'] != \"Points, rebounds & assists by the player - Including Overtime\":\n",
    "            continue\n",
    "        name = betoffer['outcomes'][0]['participant']\n",
    "        odds = betoffer['outcomes'][0]['odds']\n",
    "        line = betoffer['outcomes'][0]['line']\n",
    "        bet_type = 'ARP'\n",
    "        offer_mapped = {\"name\": name,\n",
    "                        \"odds\": odds,\n",
    "                        \"line\": line,\n",
    "                        \"bet_type\": bet_type\n",
    "                        }\n",
    "        all_offers.append(offer_mapped.copy())\n",
    "    return all_offers\n",
    "\n",
    "\n",
    "def todays_games_list():\n",
    "    url = \"https://pl.unibet-41.com/sportsbook-feeds/views/filter/basketball/nba/matches?includeParticipants=true&useCombined=true&ncid=1635100613\"\n",
    "    resp = requests.get(url)\n",
    "    a = resp.json()\n",
    "    events = a['layout']['sections'][1]['widgets'][0]['matches']['events']\n",
    "    result = []\n",
    "    for event in events:\n",
    "        if event['event']['group'] != 'NBA':\n",
    "            continue\n",
    "        event_id = event['event']['id']\n",
    "        result.append(event_id)\n",
    "    return result\n",
    "\n",
    "\n",
    "def all_today_bets():\n",
    "    bet_type = 'ARP'  # do dodania jako parametr wejsciowy i podstawa wyboru, mapowania\n",
    "    today_games = GAMES  # docelowo: today_games = todays_games_list()\n",
    "    game_id = today_games[5]  # to jest id z listy, np '1008151243'\n",
    "    result = game_betoffer_list(event_id=game_id)\n",
    "    return result\n",
    "\n",
    "\n",
    "def all_today_bets_normalized():\n",
    "    # metoda przetwarzające dane zakładów do formatu spójnego z ESPN (name-surname)\n",
    "    betoffers = all_today_bets()\n",
    "    for bet in betoffers:\n",
    "        bet['name_ESPN'] = normalize_UB_name_to_ESPN(bet['name'])\n",
    "    return betoffers\n",
    "\n",
    "\n",
    "def normalize_UB_name_to_ESPN(UB_name):\n",
    "    # transforms \"Westbrook, Russel\" to \"RusselWestbrook\"\n",
    "    return ''.join(UB_name.split(',')[::-1]).strip()\n",
    "\n",
    "\n",
    "if __name__ == '__main__':\n",
    "    bets = all_today_bets_normalized()\n",
    "    print(bets)"
   ]
  },
  {
   "cell_type": "code",
   "execution_count": null,
   "id": "23ab0bf3-8538-4328-a776-235f94cf2320",
   "metadata": {},
   "outputs": [],
   "source": []
  },
  {
   "cell_type": "code",
   "execution_count": null,
   "id": "d3e21f05-5e1f-4c4a-9367-58dc14198184",
   "metadata": {},
   "outputs": [],
   "source": []
  },
  {
   "cell_type": "code",
   "execution_count": null,
   "id": "0db49340-52fd-4eb1-b922-733e1df36966",
   "metadata": {},
   "outputs": [],
   "source": []
  },
  {
   "cell_type": "code",
   "execution_count": null,
   "id": "597e53fe-7fc2-4784-b6a1-8db63330d01a",
   "metadata": {},
   "outputs": [],
   "source": []
  },
  {
   "cell_type": "code",
   "execution_count": null,
   "id": "e56cede1-a1ef-442f-816a-9c878c1dd593",
   "metadata": {},
   "outputs": [],
   "source": []
  },
  {
   "cell_type": "code",
   "execution_count": null,
   "id": "2edeabaa-f57e-4640-b07b-4513ea324e35",
   "metadata": {},
   "outputs": [],
   "source": []
  },
  {
   "cell_type": "code",
   "execution_count": null,
   "id": "b3856b01-4f2e-4cd5-9e2f-86863151b215",
   "metadata": {},
   "outputs": [],
   "source": []
  },
  {
   "cell_type": "code",
   "execution_count": null,
   "id": "1c2c04bb-8a45-42c5-86f1-9023f33d2feb",
   "metadata": {},
   "outputs": [],
   "source": []
  }
 ],
 "metadata": {
  "kernelspec": {
   "display_name": "Python 3 (ipykernel)",
   "language": "python",
   "name": "python3"
  },
  "language_info": {
   "codemirror_mode": {
    "name": "ipython",
    "version": 3
   },
   "file_extension": ".py",
   "mimetype": "text/x-python",
   "name": "python",
   "nbconvert_exporter": "python",
   "pygments_lexer": "ipython3",
   "version": "3.9.6"
  }
 },
 "nbformat": 4,
 "nbformat_minor": 5
}
