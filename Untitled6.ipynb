{
 "cells": [
  {
   "cell_type": "code",
   "execution_count": 2,
   "id": "f2e025ed-4282-43a6-bb42-2c3455e08136",
   "metadata": {},
   "outputs": [],
   "source": [
    "from bet_scrapper import *\n",
    "from bet_analizator import *\n",
    "from gamelogs_fetcher import *\n",
    "import pandas as pd\n",
    "\n",
    "\n",
    "\n",
    "#pd.set_option(\"expand_frame_repr\", True)\n",
    "# type == \"PTS\" and (-8 < over_rtg < -6) or (-0.7 < over_rtg < 0.18) and range < 7.5 - duże szanse na under PTS\n",
    "# type ==\"ARP\" and -3 < over_rtg < 2 and range < 2.5\n",
    "\n",
    "# z dnia 21.01\n",
    "# -3 < under_rtg < -1 and desc == \"LG3\" and type ==\"PTS\" # over 13-5\n",
    "# -2 < over_rtg < -0 and desc == \"LG7-GLOC\" # over 6-3 PTS, 5-1 ARP\n",
    "\n",
    "# odds != 1.89 and type == \"ARP\" and desc ==\"LG3\" and (over_count ==0 or over_count ==3) # znaczna przewaga underów\n",
    "# type == \"ARP\" and desc ==\"LG3\" and (over_count ==0 or over_count ==3) # przewaga underów\n",
    "# over_count >= 6 and desc == \"LG7-GLOC\" and type ==\"ARP\" # przewaga underów\n",
    "\n",
    "# line > q80 and under_count > over_count and (over_count + under_count) > 2\n",
    "# line < q20 and under_count < over_count and (over_count + under_count) > 3"
   ]
  },
  {
   "cell_type": "code",
   "execution_count": 9,
   "id": "d468a8c4",
   "metadata": {},
   "outputs": [
    {
     "ename": "SyntaxError",
     "evalue": "invalid syntax (284686309.py, line 5)",
     "output_type": "error",
     "traceback": [
      "\u001b[1;36m  Input \u001b[1;32mIn [9]\u001b[1;36m\u001b[0m\n\u001b[1;33m    typ wykresu: line\u001b[0m\n\u001b[1;37m        ^\u001b[0m\n\u001b[1;31mSyntaxError\u001b[0m\u001b[1;31m:\u001b[0m invalid syntax\n"
     ]
    }
   ],
   "source": [
    "#show(bets_scoring_df(bets))\n",
    "bet_type ==\"ARP\"\n",
    "bet_date >\"2022-10-19\"\n",
    "name_ESPN == \"GiannisAntetokounmpo\"\n",
    "typ wykresu: line\n",
    "x betline\n",
    "y diff\n",
    "#bets\n"
   ]
  },
  {
   "cell_type": "code",
   "execution_count": 2,
   "id": "fbcdff8a-dfab-42a6-b77f-adcc74c344d2",
   "metadata": {},
   "outputs": [
    {
     "name": "stderr",
     "output_type": "stream",
     "text": [
      "C:\\IT\\projects\\bet_fetcher.py:143: FutureWarning: The frame.append method is deprecated and will be removed from pandas in a future version. Use pandas.concat instead.\n",
      "  pd.read_csv('bets.csv').append(df).drop_duplicates().to_csv('bets.csv', index=False)\n",
      "PandasGUI INFO — pandasgui.gui — Opening PandasGUI\n",
      "C:\\Users\\wrzes\\AppData\\Local\\Temp\\ipykernel_43176\\1858195524.py:4: FutureWarning: The default dtype for empty Series will be 'object' instead of 'float64' in a future version. Specify a dtype explicitly to silence this warning.\n",
      "  show(pd.DataFrame(this_season_analysis(bets)))\n",
      "C:\\Users\\wrzes\\AppData\\Local\\Temp\\ipykernel_43176\\1858195524.py:4: FutureWarning: The default dtype for empty Series will be 'object' instead of 'float64' in a future version. Specify a dtype explicitly to silence this warning.\n",
      "  show(pd.DataFrame(this_season_analysis(bets)))\n",
      "C:\\Users\\wrzes\\AppData\\Local\\Temp\\ipykernel_43176\\1858195524.py:4: FutureWarning:\n",
      "\n",
      "The default dtype for empty Series will be 'object' instead of 'float64' in a future version. Specify a dtype explicitly to silence this warning.\n",
      "\n",
      "C:\\Users\\wrzes\\AppData\\Local\\Temp\\ipykernel_43176\\1858195524.py:4: FutureWarning:\n",
      "\n",
      "The default dtype for empty Series will be 'object' instead of 'float64' in a future version. Specify a dtype explicitly to silence this warning.\n",
      "\n",
      "C:\\Users\\wrzes\\AppData\\Local\\Temp\\ipykernel_43176\\1858195524.py:4: FutureWarning:\n",
      "\n",
      "The default dtype for empty Series will be 'object' instead of 'float64' in a future version. Specify a dtype explicitly to silence this warning.\n",
      "\n"
     ]
    },
    {
     "data": {
      "text/plain": [
       "<pandasgui.gui.PandasGui at 0x283f618e700>"
      ]
     },
     "execution_count": 2,
     "metadata": {},
     "output_type": "execute_result"
    }
   ],
   "source": [
    "bets = all_today_bets()\n",
    "store_bets(bets)\n",
    "# show(bets_scoring_df(bets)) skombinowane wyniki z this season analysis\n",
    "show(pd.DataFrame(this_season_analysis(bets)))"
   ]
  },
  {
   "cell_type": "code",
   "execution_count": 4,
   "id": "b83e46a7-5c9b-4275-833e-83ee8c37e6ff",
   "metadata": {},
   "outputs": [
    {
     "name": "stderr",
     "output_type": "stream",
     "text": [
      "PandasGUI INFO — pandasgui.gui — Opening PandasGUI\n"
     ]
    },
    {
     "data": {
      "text/plain": [
       "<pandasgui.gui.PandasGui at 0x1e446606160>"
      ]
     },
     "execution_count": 4,
     "metadata": {},
     "output_type": "execute_result"
    }
   ],
   "source": [
    "xx= stored_bets()\n",
    "show(pd.DataFrame(xx))"
   ]
  },
  {
   "cell_type": "code",
   "execution_count": 6,
   "id": "d042be32-1d02-4c4c-89f3-35e59552fb42",
   "metadata": {},
   "outputs": [
    {
     "ename": "TypeError",
     "evalue": "'DataFrame' object is not callable",
     "output_type": "error",
     "traceback": [
      "\u001b[1;31m---------------------------------------------------------------------------\u001b[0m",
      "\u001b[1;31mTypeError\u001b[0m                                 Traceback (most recent call last)",
      "Input \u001b[1;32mIn [6]\u001b[0m, in \u001b[0;36m<cell line: 1>\u001b[1;34m()\u001b[0m\n\u001b[1;32m----> 1\u001b[0m stored_betss \u001b[38;5;241m=\u001b[39m \u001b[43mstored_bets\u001b[49m\u001b[43m(\u001b[49m\u001b[43m)\u001b[49m\n\u001b[0;32m      2\u001b[0m stored_bets \u001b[38;5;241m=\u001b[39m stored_betss[stored_betss[\u001b[38;5;124m'\u001b[39m\u001b[38;5;124mchanged_date\u001b[39m\u001b[38;5;124m'\u001b[39m]\u001b[38;5;241m>\u001b[39m\u001b[38;5;124m'\u001b[39m\u001b[38;5;124m2022-11-07\u001b[39m\u001b[38;5;124m'\u001b[39m]\n\u001b[0;32m      3\u001b[0m scored_bets_results \u001b[38;5;241m=\u001b[39m provide_results_with_bet_scoring(provide_stored_bet_results(stored_bets))\n",
      "\u001b[1;31mTypeError\u001b[0m: 'DataFrame' object is not callable"
     ]
    }
   ],
   "source": [
    "stored_bets = pd.read_csv(\"bets.csv\")\n",
    "scored_bets_results = provide_results_with_bet_scoring(provide_stored_bet_results(stored_bets))\n",
    "show(pd.DataFrame(scored_bets_results))"
   ]
  },
  {
   "cell_type": "code",
   "execution_count": null,
   "id": "65c7f94d-f403-4a1c-873f-78350b86479a",
   "metadata": {},
   "outputs": [],
   "source": [
    "show(pd.DataFrame(scored_bets_results))\n"
   ]
  },
  {
   "cell_type": "code",
   "execution_count": null,
   "id": "21254ef9-7e12-498f-8ca7-924182717349",
   "metadata": {},
   "outputs": [],
   "source": [
    "df = pd.DataFrame(scored_bets_results)\n",
    "pd.read_csv('bets_results.csv').append(df).drop_duplicates().to_csv('bets_results.csv', index=False)"
   ]
  },
  {
   "cell_type": "code",
   "execution_count": null,
   "id": "19bced60-3d8c-4f38-ab52-eab9b6b8765c",
   "metadata": {},
   "outputs": [],
   "source": [
    "import pprint\n",
    "pp = pprint.PrettyPrinter(indent=4)\n",
    "s_bets = stored_bets()\n",
    "analyzed_bets = s_bets[s_bets['changed_date']<'2022-02-07']\n",
    "#pp.pprint(todays_bets)\n",
    "scored_bets_results = provide_results_with_bet_scoring(provide_stored_bet_results(analyzed_bets))\n",
    "show(pd.DataFrame(scored_bets_results))"
   ]
  },
  {
   "cell_type": "code",
   "execution_count": null,
   "id": "3155d19c-c95c-47b1-ac67-b0412d338356",
   "metadata": {},
   "outputs": [],
   "source": [
    "show(pd.DataFrame(this_season_analysis(bets)))"
   ]
  },
  {
   "cell_type": "code",
   "execution_count": null,
   "id": "d9b75cfa-ec58-4096-a080-3317bb375464",
   "metadata": {},
   "outputs": [],
   "source": [
    "todays_bets = stored_bets[stored_bets['changed_date']>'2022-11-07']"
   ]
  },
  {
   "cell_type": "code",
   "execution_count": null,
   "id": "50002dae-5fe4-4fb2-ad14-b349efc7bc4c",
   "metadata": {},
   "outputs": [],
   "source": [
    "dicts = provide_bet_results()\n",
    "df = pd.DataFrame(dicts)"
   ]
  },
  {
   "cell_type": "code",
   "execution_count": null,
   "id": "894e9710-07cf-4988-868d-8696430196c7",
   "metadata": {},
   "outputs": [],
   "source": [
    "a = pd.DataFrame(scored_bets_results)\n",
    "show(a)"
   ]
  },
  {
   "cell_type": "code",
   "execution_count": null,
   "id": "2f231eb4-1a66-421c-bfbc-e584b4e505c2",
   "metadata": {},
   "outputs": [],
   "source": [
    "scoring = bets_scoring_df(bets)\n",
    "show(scoring)"
   ]
  },
  {
   "cell_type": "code",
   "execution_count": null,
   "id": "c6f8e42b-9d02-41ed-9636-dd4b89db464c",
   "metadata": {},
   "outputs": [],
   "source": [
    "player_stat_df = players_in_bets(bets)\n",
    "#show(player_stat_df[player_stat_df['player_name'] =='PattyMills'])\n",
    "show(player_stat_df)"
   ]
  },
  {
   "cell_type": "code",
   "execution_count": null,
   "id": "bfcca307-a120-4719-9c1e-24c3671e371f",
   "metadata": {},
   "outputs": [],
   "source": [
    "show(this_season_analysis(bets))"
   ]
  },
  {
   "cell_type": "code",
   "execution_count": null,
   "id": "6a2b62f0-8063-4731-b527-035870d2c013",
   "metadata": {},
   "outputs": [],
   "source": [
    "bet = bets[0]\n",
    "players[(players['player_name']==bet['name_ESPN']) & (players['Date']==bet['changed_date'][0:10])]"
   ]
  },
  {
   "cell_type": "code",
   "execution_count": null,
   "id": "ac7661a1-6afe-4767-91b4-c4232e76b6ce",
   "metadata": {},
   "outputs": [],
   "source": [
    "scoring['score_sum'] = scoring['over_rtg'] - scoring['under_rtg']"
   ]
  },
  {
   "cell_type": "code",
   "execution_count": null,
   "id": "7f279a04-9978-436a-b840-3f7168212119",
   "metadata": {},
   "outputs": [],
   "source": [
    "show(scoring)\n"
   ]
  },
  {
   "cell_type": "markdown",
   "id": "2a20953e-7a97-45c7-9873-b9e15a11540e",
   "metadata": {
    "jp-MarkdownHeadingCollapsed": true,
    "tags": []
   },
   "source": [
    "# Players dashboard\n",
    "## last_x_games(number_of_games) -> graphs last x games (home - dotted blue, away - dotted red) \n",
    "## weekly graphs of ARP\n",
    "## how player performs agains teams assigned to defensive tier\n",
    "### defensive tiers: division is based on following descriptive assumptions\n",
    "#### 1-4 Finals contenders\n",
    "#### 5-12 Playoffs contenders\n",
    "#### 13-22 Playoff possible\n",
    "#### 23-30 Table bottom\n",
    "\n"
   ]
  },
  {
   "cell_type": "code",
   "execution_count": null,
   "id": "a51396f8-e62e-4bae-a418-69e05e799541",
   "metadata": {},
   "outputs": [],
   "source": [
    "bets"
   ]
  }
 ],
 "metadata": {
  "kernelspec": {
   "display_name": "Python 3 (ipykernel)",
   "language": "python",
   "name": "python3"
  },
  "language_info": {
   "codemirror_mode": {
    "name": "ipython",
    "version": 3
   },
   "file_extension": ".py",
   "mimetype": "text/x-python",
   "name": "python",
   "nbconvert_exporter": "python",
   "pygments_lexer": "ipython3",
   "version": "3.9.10"
  }
 },
 "nbformat": 4,
 "nbformat_minor": 5
}
