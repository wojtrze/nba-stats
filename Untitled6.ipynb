{
 "cells": [
  {
   "cell_type": "code",
   "execution_count": 1,
   "id": "f2e025ed-4282-43a6-bb42-2c3455e08136",
   "metadata": {},
   "outputs": [],
   "source": [
    "from bet_fetcher import *\n",
    "from bet_analizator import *\n",
    "from gamelogs_fetcher import *\n",
    "import pandas as pd\n",
    "\n",
    "\n",
    "#pd.set_option(\"expand_frame_repr\", True)"
   ]
  },
  {
   "cell_type": "code",
   "execution_count": null,
   "id": "d042be32-1d02-4c4c-89f3-35e59552fb42",
   "metadata": {},
   "outputs": [],
   "source": [
    "bets = stored_bets()\n",
    "scored_bets_results = provide_results_with_bet_scoring(provide_stored_bet_results(bets))\n",
    "show(pd.DataFrame(scored_bets_results))"
   ]
  },
  {
   "cell_type": "code",
   "execution_count": null,
   "id": "50002dae-5fe4-4fb2-ad14-b349efc7bc4c",
   "metadata": {},
   "outputs": [],
   "source": [
    "dicts = provide_bet_results()\n",
    "df = pd.DataFrame(dicts)"
   ]
  },
  {
   "cell_type": "code",
   "execution_count": 9,
   "id": "fbcdff8a-dfab-42a6-b77f-adcc74c344d2",
   "metadata": {},
   "outputs": [
    {
     "name": "stdout",
     "output_type": "stream",
     "text": [
      "game_id: 1007986127 - 0 total offers count\n",
      "game_id: 1007986122 - 18 total offers count\n",
      "game_id: 1007986129 - 32 total offers count\n",
      "game_id: 1007988536 - 42 total offers count\n",
      "game_id: 1007986155 - 58 total offers count\n",
      "game_id: 1007986152 - 76 total offers count\n",
      "game_id: 1007986153 - 94 total offers count\n",
      "game_id: 1007986143 - 110 total offers count\n",
      "game_id: 1007986125 - 128 total offers count\n",
      "game_id: 1007986142 - 144 total offers count\n",
      "game_id: 1007986115 - 161 total offers count\n",
      "game_id: 1007986157 - 165 total offers count\n",
      "game_id: 1007986120 - 183 total offers count\n"
     ]
    }
   ],
   "source": [
    "bets = all_today_bets()\n",
    "store_bets(bets)\n",
    "#show(bets_scoring_df(bets))"
   ]
  },
  {
   "cell_type": "code",
   "execution_count": 10,
   "id": "894e9710-07cf-4988-868d-8696430196c7",
   "metadata": {},
   "outputs": [
    {
     "name": "stderr",
     "output_type": "stream",
     "text": [
      "C:\\Users\\wrzes\\PycharmProjects\\nbawoj\\bet_analizator.py:115: SettingWithCopyWarning:\n",
      "\n",
      "\n",
      "A value is trying to be set on a copy of a slice from a DataFrame.\n",
      "Try using .loc[row_indexer,col_indexer] = value instead\n",
      "\n",
      "See the caveats in the documentation: https://pandas.pydata.org/pandas-docs/stable/user_guide/indexing.html#returning-a-view-versus-a-copy\n",
      "\n",
      "PandasGUI INFO — pandasgui.gui — Opening PandasGUI\n"
     ]
    },
    {
     "data": {
      "text/plain": [
       "<pandasgui.gui.PandasGui at 0x2b4a1d96040>"
      ]
     },
     "execution_count": 10,
     "metadata": {},
     "output_type": "execute_result"
    }
   ],
   "source": [
    "show(pd.DataFrame(this_season_analysis(bets)))"
   ]
  },
  {
   "cell_type": "code",
   "execution_count": 13,
   "id": "2f231eb4-1a66-421c-bfbc-e584b4e505c2",
   "metadata": {},
   "outputs": [],
   "source": [
    "scoring = bets_scoring_df(bets)\n",
    "show(scoring)"
   ]
  },
  {
   "cell_type": "code",
   "execution_count": null,
   "id": "c6f8e42b-9d02-41ed-9636-dd4b89db464c",
   "metadata": {},
   "outputs": [],
   "source": [
    "player_stat_df = players_in_bets(bets)\n",
    "show(player_stat_df[player_stat_df['player_name']== 'GaryHarris'])"
   ]
  },
  {
   "cell_type": "code",
   "execution_count": 4,
   "id": "bfcca307-a120-4719-9c1e-24c3671e371f",
   "metadata": {},
   "outputs": [
    {
     "name": "stderr",
     "output_type": "stream",
     "text": [
      "PandasGUI INFO — pandasgui.gui — Opening PandasGUI\n"
     ]
    },
    {
     "data": {
      "text/plain": [
       "<pandasgui.gui.PandasGui at 0x2b490cbfb80>"
      ]
     },
     "execution_count": 4,
     "metadata": {},
     "output_type": "execute_result"
    }
   ],
   "source": [
    "show(this_season_analysis(bets))"
   ]
  },
  {
   "cell_type": "code",
   "execution_count": null,
   "id": "6a2b62f0-8063-4731-b527-035870d2c013",
   "metadata": {},
   "outputs": [],
   "source": [
    "bet = bets[0]\n",
    "players[(players['player_name']==bet['name_ESPN']) & (players['Date']==bet['changed_date'][0:10])]"
   ]
  },
  {
   "cell_type": "code",
   "execution_count": 14,
   "id": "ac7661a1-6afe-4767-91b4-c4232e76b6ce",
   "metadata": {},
   "outputs": [],
   "source": [
    "scoring['score_sum'] = scoring['over_rtg'] - scoring['under_rtg']"
   ]
  },
  {
   "cell_type": "code",
   "execution_count": 15,
   "id": "7f279a04-9978-436a-b840-3f7168212119",
   "metadata": {},
   "outputs": [
    {
     "name": "stderr",
     "output_type": "stream",
     "text": [
      "PandasGUI INFO — pandasgui.gui — Opening PandasGUI\n"
     ]
    },
    {
     "data": {
      "text/plain": [
       "<pandasgui.gui.PandasGui at 0x2b4a19e64c0>"
      ]
     },
     "execution_count": 15,
     "metadata": {},
     "output_type": "execute_result"
    }
   ],
   "source": [
    "show(scoring)\n"
   ]
  },
  {
   "cell_type": "markdown",
   "id": "2a20953e-7a97-45c7-9873-b9e15a11540e",
   "metadata": {
    "jp-MarkdownHeadingCollapsed": true,
    "tags": []
   },
   "source": [
    "# Players dashboard\n",
    "## last_x_games(number_of_games) -> graphs last x games (home - dotted blue, away - dotted red) \n",
    "## weekly graphs of ARP\n",
    "## how player performs agains teams assigned to defensive tier\n",
    "### defensive tiers: division is based on following descriptive assumptions\n",
    "#### 1-4 Finals contenders\n",
    "#### 5-12 Playoffs contenders\n",
    "#### 13-22 Playoff possible\n",
    "#### 23-30 Table bottom\n",
    "\n"
   ]
  },
  {
   "cell_type": "code",
   "execution_count": null,
   "id": "a51396f8-e62e-4bae-a418-69e05e799541",
   "metadata": {},
   "outputs": [],
   "source": [
    "bets"
   ]
  }
 ],
 "metadata": {
  "kernelspec": {
   "display_name": "Python 3 (ipykernel)",
   "language": "python",
   "name": "python3"
  },
  "language_info": {
   "codemirror_mode": {
    "name": "ipython",
    "version": 3
   },
   "file_extension": ".py",
   "mimetype": "text/x-python",
   "name": "python",
   "nbconvert_exporter": "python",
   "pygments_lexer": "ipython3",
   "version": "3.9.6"
  }
 },
 "nbformat": 4,
 "nbformat_minor": 5
}
