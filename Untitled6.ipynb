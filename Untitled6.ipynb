{
 "cells": [
  {
   "cell_type": "code",
   "execution_count": 2,
   "id": "f2e025ed-4282-43a6-bb42-2c3455e08136",
   "metadata": {},
   "outputs": [],
   "source": [
    "# start all required modules (TODO: Review)\n",
    "from bet_scrapper import *\n",
    "from bet_analizator import *\n",
    "from gamelogs_fetcher import *\n",
    "import pandas as pd\n",
    "\n"
   ]
  },
  {
   "cell_type": "code",
   "execution_count": 3,
   "id": "a42a901c",
   "metadata": {},
   "outputs": [
    {
     "name": "stderr",
     "output_type": "stream",
     "text": [
      "PandasGUI INFO — pandasgui.gui — Opening PandasGUI\n"
     ]
    },
    {
     "data": {
      "text/plain": [
       "<pandasgui.gui.PandasGui at 0x2080b809c10>"
      ]
     },
     "execution_count": 3,
     "metadata": {},
     "output_type": "execute_result"
    }
   ],
   "source": [
    "# read data stored in df and prepare it\n",
    "df = pd.read_csv(\"all_assessed_bets20230320.csv\")\n",
    "# drop duplicates\n",
    "df = df.drop_duplicates(subset=['closed_date','player_ESPN','bet_type','line', 'over_under'], keep='first')\n",
    "show(df)"
   ]
  },
  {
   "cell_type": "code",
   "execution_count": 9,
   "id": "ee6982b5",
   "metadata": {},
   "outputs": [
    {
     "name": "stderr",
     "output_type": "stream",
     "text": [
      "PandasGUI INFO — pandasgui.gui — Opening PandasGUI\n"
     ]
    },
    {
     "data": {
      "text/plain": [
       "<pandasgui.gui.PandasGui at 0x11f09689a60>"
      ]
     },
     "execution_count": 9,
     "metadata": {},
     "output_type": "execute_result"
    }
   ],
   "source": [
    "# merge the two dataframes and include the indicator column\n",
    "merged_df = pd.merge(df, dfx, how='outer', indicator=True)\n",
    "# extract rows present only in df\n",
    "df1_only = merged_df[merged_df['_merge'] == 'left_only'].drop('_merge', axis=1)\n",
    "show(df1_only)"
   ]
  },
  {
   "cell_type": "code",
   "execution_count": 10,
   "id": "d468a8c4",
   "metadata": {},
   "outputs": [],
   "source": [
    "def games_without_player(df, player_name, other_player_name):\n",
    "    return df.query(\"player_ESPN == @player_name\")\\\n",
    "             .merge(df.query(\"player_ESPN == @other_player_name\"), on='closed_date', how='outer', indicator=True)\\\n",
    "             .query(\"_merge == 'left_only'\")\\\n",
    "             .drop(columns='_merge')"
   ]
  },
  {
   "cell_type": "code",
   "execution_count": 16,
   "id": "d48b9fde",
   "metadata": {},
   "outputs": [],
   "source": [
    "zzzx = zzz.drop_duplicates(subset=['player_ESPN','bet_type','over_under','closed_date'])"
   ]
  },
  {
   "cell_type": "code",
   "execution_count": 11,
   "id": "be985916",
   "metadata": {},
   "outputs": [
    {
     "name": "stderr",
     "output_type": "stream",
     "text": [
      "PandasGUI INFO — pandasgui.gui — Opening PandasGUI\n"
     ]
    },
    {
     "data": {
      "text/plain": [
       "<pandasgui.gui.PandasGui at 0x1ea83c9d040>"
      ]
     },
     "execution_count": 11,
     "metadata": {},
     "output_type": "execute_result"
    }
   ],
   "source": [
    "show(games_without_player(df, \"KhrisMiddleton\", \"GiannisAntetokounmpo\"))"
   ]
  },
  {
   "cell_type": "code",
   "execution_count": 20,
   "id": "c63da1da",
   "metadata": {},
   "outputs": [
    {
     "data": {
      "text/plain": [
       "(41526, 12)"
      ]
     },
     "execution_count": 20,
     "metadata": {},
     "output_type": "execute_result"
    }
   ],
   "source": [
    "zzzy = zzz.drop_duplicates(subset=['player_ESPN','bet_type','over_under','closed_date','line'])\n",
    "zzzy.shape"
   ]
  },
  {
   "cell_type": "code",
   "execution_count": 4,
   "id": "b83e46a7-5c9b-4275-833e-83ee8c37e6ff",
   "metadata": {},
   "outputs": [
    {
     "name": "stderr",
     "output_type": "stream",
     "text": [
      "PandasGUI INFO — pandasgui.gui — Opening PandasGUI\n"
     ]
    },
    {
     "data": {
      "text/plain": [
       "<pandasgui.gui.PandasGui at 0x1e446606160>"
      ]
     },
     "execution_count": 4,
     "metadata": {},
     "output_type": "execute_result"
    }
   ],
   "source": [
    "xx= stored_bets()\n",
    "show(pd.DataFrame(xx))"
   ]
  },
  {
   "cell_type": "code",
   "execution_count": 6,
   "id": "d042be32-1d02-4c4c-89f3-35e59552fb42",
   "metadata": {},
   "outputs": [
    {
     "ename": "TypeError",
     "evalue": "'DataFrame' object is not callable",
     "output_type": "error",
     "traceback": [
      "\u001b[1;31m---------------------------------------------------------------------------\u001b[0m",
      "\u001b[1;31mTypeError\u001b[0m                                 Traceback (most recent call last)",
      "Input \u001b[1;32mIn [6]\u001b[0m, in \u001b[0;36m<cell line: 1>\u001b[1;34m()\u001b[0m\n\u001b[1;32m----> 1\u001b[0m stored_betss \u001b[38;5;241m=\u001b[39m \u001b[43mstored_bets\u001b[49m\u001b[43m(\u001b[49m\u001b[43m)\u001b[49m\n\u001b[0;32m      2\u001b[0m stored_bets \u001b[38;5;241m=\u001b[39m stored_betss[stored_betss[\u001b[38;5;124m'\u001b[39m\u001b[38;5;124mchanged_date\u001b[39m\u001b[38;5;124m'\u001b[39m]\u001b[38;5;241m>\u001b[39m\u001b[38;5;124m'\u001b[39m\u001b[38;5;124m2022-11-07\u001b[39m\u001b[38;5;124m'\u001b[39m]\n\u001b[0;32m      3\u001b[0m scored_bets_results \u001b[38;5;241m=\u001b[39m provide_results_with_bet_scoring(provide_stored_bet_results(stored_bets))\n",
      "\u001b[1;31mTypeError\u001b[0m: 'DataFrame' object is not callable"
     ]
    }
   ],
   "source": [
    "stored_bets = pd.read_csv(\"bets.csv\")\n",
    "scored_bets_results = provide_results_with_bet_scoring(provide_stored_bet_results(stored_bets))\n",
    "show(pd.DataFrame(scored_bets_results))"
   ]
  },
  {
   "cell_type": "code",
   "execution_count": null,
   "id": "65c7f94d-f403-4a1c-873f-78350b86479a",
   "metadata": {},
   "outputs": [],
   "source": [
    "show(pd.DataFrame(scored_bets_results))\n"
   ]
  },
  {
   "cell_type": "code",
   "execution_count": null,
   "id": "21254ef9-7e12-498f-8ca7-924182717349",
   "metadata": {},
   "outputs": [],
   "source": [
    "df = pd.DataFrame(scored_bets_results)\n",
    "pd.read_csv('bets_results.csv').append(df).drop_duplicates().to_csv('bets_results.csv', index=False)"
   ]
  },
  {
   "cell_type": "code",
   "execution_count": null,
   "id": "19bced60-3d8c-4f38-ab52-eab9b6b8765c",
   "metadata": {},
   "outputs": [],
   "source": [
    "import pprint\n",
    "pp = pprint.PrettyPrinter(indent=4)\n",
    "s_bets = stored_bets()\n",
    "analyzed_bets = s_bets[s_bets['changed_date']<'2022-02-07']\n",
    "#pp.pprint(todays_bets)\n",
    "scored_bets_results = provide_results_with_bet_scoring(provide_stored_bet_results(analyzed_bets))\n",
    "show(pd.DataFrame(scored_bets_results))"
   ]
  },
  {
   "cell_type": "code",
   "execution_count": null,
   "id": "3155d19c-c95c-47b1-ac67-b0412d338356",
   "metadata": {},
   "outputs": [],
   "source": [
    "show(pd.DataFrame(this_season_analysis(bets)))"
   ]
  },
  {
   "cell_type": "code",
   "execution_count": null,
   "id": "d9b75cfa-ec58-4096-a080-3317bb375464",
   "metadata": {},
   "outputs": [],
   "source": [
    "todays_bets = stored_bets[stored_bets['changed_date']>'2022-11-07']"
   ]
  }
 ],
 "metadata": {
  "kernelspec": {
   "display_name": "Python 3 (ipykernel)",
   "language": "python",
   "name": "python3"
  },
  "language_info": {
   "codemirror_mode": {
    "name": "ipython",
    "version": 3
   },
   "file_extension": ".py",
   "mimetype": "text/x-python",
   "name": "python",
   "nbconvert_exporter": "python",
   "pygments_lexer": "ipython3",
   "version": "3.9.10"
  }
 },
 "nbformat": 4,
 "nbformat_minor": 5
}
