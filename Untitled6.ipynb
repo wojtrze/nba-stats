{
 "cells": [
  {
   "cell_type": "code",
   "execution_count": 6,
   "id": "f2e025ed-4282-43a6-bb42-2c3455e08136",
   "metadata": {},
   "outputs": [],
   "source": [
    "from bet_fetcher import *\n",
    "from bet_analizator import *\n",
    "from gamelogs_fetcher import *\n",
    "import pandas as pd\n",
    "\n",
    "\n",
    "\n",
    "#pd.set_option(\"expand_frame_repr\", True)\n",
    "# type == \"PTS\" and (-8 < over_rtg < -6) or (-0.7 < over_rtg < 0.18) and range < 7.5 - duże szanse na under PTS\n",
    "# type ==\"ARP\" and -3 < over_rtg < 2 and range < 2.5\n",
    "\n",
    "# z dnia 21.01\n",
    "# -3 < under_rtg < -1 and desc == \"LG3\" and type ==\"PTS\" # over 13-5\n",
    "# -2 < over_rtg < -0 and desc == \"LG7-GLOC\" # over 6-3 PTS, 5-1 ARP\n"
   ]
  },
  {
   "cell_type": "code",
   "execution_count": 3,
   "id": "fbcdff8a-dfab-42a6-b77f-adcc74c344d2",
   "metadata": {},
   "outputs": [
    {
     "name": "stdout",
     "output_type": "stream",
     "text": [
      "game_id: 1007988510 - 0 total offers count\n",
      "game_id: 1007986042 - 0 total offers count\n",
      "game_id: 1007986053 - 16 total offers count\n",
      "game_id: 1007986077 - 16 total offers count\n",
      "game_id: 1007986052 - 16 total offers count\n",
      "game_id: 1007986050 - 26 total offers count\n",
      "game_id: 1007986062 - 34 total offers count\n",
      "game_id: 1007986057 - 34 total offers count\n"
     ]
    },
    {
     "name": "stderr",
     "output_type": "stream",
     "text": [
      "PandasGUI INFO — pandasgui.gui — Opening PandasGUI\n"
     ]
    },
    {
     "data": {
      "text/plain": [
       "<pandasgui.gui.PandasGui at 0x265e6581430>"
      ]
     },
     "execution_count": 3,
     "metadata": {},
     "output_type": "execute_result"
    }
   ],
   "source": [
    "bets = all_today_bets()\n",
    "store_bets(bets)\n",
    "show(bets_scoring_df(bets))"
   ]
  },
  {
   "cell_type": "code",
   "execution_count": 5,
   "id": "b83e46a7-5c9b-4275-833e-83ee8c37e6ff",
   "metadata": {},
   "outputs": [
    {
     "name": "stderr",
     "output_type": "stream",
     "text": [
      "PandasGUI INFO — pandasgui.gui — Opening PandasGUI\n"
     ]
    },
    {
     "data": {
      "text/plain": [
       "<pandasgui.gui.PandasGui at 0x265e4c7cee0>"
      ]
     },
     "execution_count": 5,
     "metadata": {},
     "output_type": "execute_result"
    },
    {
     "name": "stderr",
     "output_type": "stream",
     "text": [
      "PandasGUI ERROR — pandasgui.store — cannot assign without a target object\n",
      "Traceback (most recent call last):\n",
      "  File \"c:\\users\\wrzes\\pycharmprojects\\nbawoj\\venv\\lib\\site-packages\\pandasgui\\store.py\", line 594, in apply_filters\n",
      "    df = df.query(filt.expr)\n",
      "  File \"c:\\users\\wrzes\\pycharmprojects\\nbawoj\\venv\\lib\\site-packages\\pandas\\core\\frame.py\", line 4060, in query\n",
      "    res = self.eval(expr, **kwargs)\n",
      "  File \"c:\\users\\wrzes\\pycharmprojects\\nbawoj\\venv\\lib\\site-packages\\pandas\\core\\frame.py\", line 4191, in eval\n",
      "    return _eval(expr, inplace=inplace, **kwargs)\n",
      "  File \"c:\\users\\wrzes\\pycharmprojects\\nbawoj\\venv\\lib\\site-packages\\pandas\\core\\computation\\eval.py\", line 348, in eval\n",
      "    parsed_expr = Expr(expr, engine=engine, parser=parser, env=env)\n",
      "  File \"c:\\users\\wrzes\\pycharmprojects\\nbawoj\\venv\\lib\\site-packages\\pandas\\core\\computation\\expr.py\", line 806, in __init__\n",
      "    self.terms = self.parse()\n",
      "  File \"c:\\users\\wrzes\\pycharmprojects\\nbawoj\\venv\\lib\\site-packages\\pandas\\core\\computation\\expr.py\", line 825, in parse\n",
      "    return self._visitor.visit(self.expr)\n",
      "  File \"c:\\users\\wrzes\\pycharmprojects\\nbawoj\\venv\\lib\\site-packages\\pandas\\core\\computation\\expr.py\", line 411, in visit\n",
      "    return visitor(node, **kwargs)\n",
      "  File \"c:\\users\\wrzes\\pycharmprojects\\nbawoj\\venv\\lib\\site-packages\\pandas\\core\\computation\\expr.py\", line 417, in visit_Module\n",
      "    return self.visit(expr, **kwargs)\n",
      "  File \"c:\\users\\wrzes\\pycharmprojects\\nbawoj\\venv\\lib\\site-packages\\pandas\\core\\computation\\expr.py\", line 411, in visit\n",
      "    return visitor(node, **kwargs)\n",
      "  File \"c:\\users\\wrzes\\pycharmprojects\\nbawoj\\venv\\lib\\site-packages\\pandas\\core\\computation\\expr.py\", line 619, in visit_Assign\n",
      "    raise ValueError(\"cannot assign without a target object\")\n",
      "ValueError: cannot assign without a target object\n",
      "PandasGUI ERROR — pandasgui.store — cannot assign without a target object\n",
      "Traceback (most recent call last):\n",
      "  File \"c:\\users\\wrzes\\pycharmprojects\\nbawoj\\venv\\lib\\site-packages\\pandasgui\\store.py\", line 594, in apply_filters\n",
      "    df = df.query(filt.expr)\n",
      "  File \"c:\\users\\wrzes\\pycharmprojects\\nbawoj\\venv\\lib\\site-packages\\pandas\\core\\frame.py\", line 4060, in query\n",
      "    res = self.eval(expr, **kwargs)\n",
      "  File \"c:\\users\\wrzes\\pycharmprojects\\nbawoj\\venv\\lib\\site-packages\\pandas\\core\\frame.py\", line 4191, in eval\n",
      "    return _eval(expr, inplace=inplace, **kwargs)\n",
      "  File \"c:\\users\\wrzes\\pycharmprojects\\nbawoj\\venv\\lib\\site-packages\\pandas\\core\\computation\\eval.py\", line 348, in eval\n",
      "    parsed_expr = Expr(expr, engine=engine, parser=parser, env=env)\n",
      "  File \"c:\\users\\wrzes\\pycharmprojects\\nbawoj\\venv\\lib\\site-packages\\pandas\\core\\computation\\expr.py\", line 806, in __init__\n",
      "    self.terms = self.parse()\n",
      "  File \"c:\\users\\wrzes\\pycharmprojects\\nbawoj\\venv\\lib\\site-packages\\pandas\\core\\computation\\expr.py\", line 825, in parse\n",
      "    return self._visitor.visit(self.expr)\n",
      "  File \"c:\\users\\wrzes\\pycharmprojects\\nbawoj\\venv\\lib\\site-packages\\pandas\\core\\computation\\expr.py\", line 411, in visit\n",
      "    return visitor(node, **kwargs)\n",
      "  File \"c:\\users\\wrzes\\pycharmprojects\\nbawoj\\venv\\lib\\site-packages\\pandas\\core\\computation\\expr.py\", line 417, in visit_Module\n",
      "    return self.visit(expr, **kwargs)\n",
      "  File \"c:\\users\\wrzes\\pycharmprojects\\nbawoj\\venv\\lib\\site-packages\\pandas\\core\\computation\\expr.py\", line 411, in visit\n",
      "    return visitor(node, **kwargs)\n",
      "  File \"c:\\users\\wrzes\\pycharmprojects\\nbawoj\\venv\\lib\\site-packages\\pandas\\core\\computation\\expr.py\", line 619, in visit_Assign\n",
      "    raise ValueError(\"cannot assign without a target object\")\n",
      "ValueError: cannot assign without a target object\n"
     ]
    }
   ],
   "source": [
    "show(pd.DataFrame(bets))"
   ]
  },
  {
   "cell_type": "code",
   "execution_count": 7,
   "id": "19bced60-3d8c-4f38-ab52-eab9b6b8765c",
   "metadata": {},
   "outputs": [
    {
     "name": "stdout",
     "output_type": "stream",
     "text": [
      "                        name             name_ESPN  odds  line home  away  \\\n",
      "1852       Covington, Robert       RobertCovington  2.00   9.5  chi   por   \n",
      "1853         Vucevic, Nikola         NikolaVucevic  1.89  18.5  chi   por   \n",
      "1854        Simons, Anfernee        AnferneeSimons  1.89  18.5  chi   por   \n",
      "1855           Nurkic, Jusuf           JusufNurkic  1.83  17.5  chi   por   \n",
      "1856            LaVine, Zach            ZachLaVine  1.93  24.5  chi   por   \n",
      "1857            Dosunmu, Ayo            AyoDosunmu  2.00  10.5  chi   por   \n",
      "1858          Green, Javonte          JavonteGreen  1.79   6.5  chi   por   \n",
      "1859          DeRozan, DeMar          DeMarDeRozan  1.95  26.5  chi   por   \n",
      "1860            McCollum, CJ            CJMcCollum  1.79  19.5  chi   por   \n",
      "1861          Powell, Norman          NormanPowell  1.95  18.5  chi   por   \n",
      "1862       Covington, Robert       RobertCovington  1.79  17.5  chi   por   \n",
      "1863         Vucevic, Nikola         NikolaVucevic  1.79  32.5  chi   por   \n",
      "1864        Simons, Anfernee        AnferneeSimons  1.89  28.5  chi   por   \n",
      "1865           Nurkic, Jusuf           JusufNurkic  1.89  33.5  chi   por   \n",
      "1866            LaVine, Zach            ZachLaVine  1.83  34.5  chi   por   \n",
      "1867            Dosunmu, Ayo            AyoDosunmu  1.89  18.5  chi   por   \n",
      "1868          Green, Javonte          JavonteGreen  1.89  12.5  chi   por   \n",
      "1869          DeRozan, DeMar          DeMarDeRozan  1.87  37.5  chi   por   \n",
      "1870            McCollum, CJ            CJMcCollum  1.89  28.5  chi   por   \n",
      "1871          Powell, Norman          NormanPowell  1.89  24.5  chi   por   \n",
      "1872             Bey, Saddiq             SaddiqBey  1.89  15.5  det   cle   \n",
      "1873          Allen, Jarrett          JarrettAllen  1.79  13.5  det   cle   \n",
      "1874         Stewart, Isaiah         IsaiahStewart  1.79   7.5  det   cle   \n",
      "1875         Garland, Darius         DariusGarland  2.00  20.5  det   cle   \n",
      "1876        Cunningham, Cade        CadeCunningham  1.89  17.5  det   cle   \n",
      "1877            Mobley, Evan            EvanMobley  1.79  15.5  det   cle   \n",
      "1878            Okoro, Isaac            IsaacOkoro  1.89   9.5  det   cle   \n",
      "1879             Bey, Saddiq             SaddiqBey  1.79  22.5  det   cle   \n",
      "1880          Allen, Jarrett          JarrettAllen  1.79  25.5  det   cle   \n",
      "1881         Stewart, Isaiah         IsaiahStewart  2.00  17.5  det   cle   \n",
      "1882         Garland, Darius         DariusGarland  2.00  33.5  det   cle   \n",
      "1883        Cunningham, Cade        CadeCunningham  1.89  28.5  det   cle   \n",
      "1884            Mobley, Evan            EvanMobley  1.89  26.5  det   cle   \n",
      "1885            Okoro, Isaac            IsaacOkoro  1.89  14.5  det   cle   \n",
      "1886  Antetokounmpo, Giannis  GiannisAntetokounmpo  1.79  30.5  mil   den   \n",
      "1887           Holiday, Jrue           JrueHoliday  2.00  18.5  mil   den   \n",
      "1888          Allen, Grayson          GraysonAllen  1.89  10.5  mil   den   \n",
      "1889        Middleton, Khris        KhrisMiddleton  1.89  20.5  mil   den   \n",
      "1890           Portis, Bobby           BobbyPortis  2.00  14.5  mil   den   \n",
      "1891  Antetokounmpo, Giannis  GiannisAntetokounmpo  2.00  47.5  mil   den   \n",
      "1892           Holiday, Jrue           JrueHoliday  1.89  29.5  mil   den   \n",
      "1893          Allen, Grayson          GraysonAllen  2.00  15.5  mil   den   \n",
      "1894        Middleton, Khris        KhrisMiddleton  1.89  31.5  mil   den   \n",
      "1895           Portis, Bobby           BobbyPortis  2.00  24.5  mil   den   \n",
      "1896           Morris, Monte           MonteMorris  1.80  12.5  mil   den   \n",
      "1897           Jokic, Nikola           NikolaJokic  1.80  47.5  mil   den   \n",
      "1898           Morris, Monte           MonteMorris  1.89  20.5  mil   den   \n",
      "1899             Green, Jeff             JeffGreen  1.99  11.5  mil   den   \n",
      "1900           Jokic, Nikola           NikolaJokic  1.89  26.5  mil   den   \n",
      "1901             Green, Jeff             JeffGreen  1.83  15.5  mil   den   \n",
      "1902               Bamba, Mo               MoBamba  1.89  10.5  orl   dal   \n",
      "1903          Brunson, Jalen          JalenBrunson  1.89  16.5  orl   dal   \n",
      "1904          Powell, Dwight          DwightPowell  1.79   8.5  orl   dal   \n",
      "1905            Suggs, Jalen            JalenSuggs  2.00  14.5  orl   dal   \n",
      "1906            Kleber, Maxi            MaxiKleber  1.89   8.5  orl   dal   \n",
      "1907           Wagner, Franz           FranzWagner  1.89  15.5  orl   dal   \n",
      "1908     Carter Jr., Wendell     WendellCarter Jr.  1.79  12.5  orl   dal   \n",
      "1909           Anthony, Cole           ColeAnthony  1.89  16.5  orl   dal   \n",
      "1910    Finney-Smith, Dorian    DorianFinney-Smith  1.79  10.5  orl   dal   \n",
      "1911            Doncic, Luka            LukaDoncic  1.89  28.5  orl   dal   \n",
      "1912               Bamba, Mo               MoBamba  1.89  18.5  orl   dal   \n",
      "1913          Brunson, Jalen          JalenBrunson  1.79  25.5  orl   dal   \n",
      "1914          Powell, Dwight          DwightPowell  1.79  14.5  orl   dal   \n",
      "1915            Suggs, Jalen            JalenSuggs  1.89  23.5  orl   dal   \n",
      "1916            Kleber, Maxi            MaxiKleber  2.00  16.5  orl   dal   \n",
      "1917           Wagner, Franz           FranzWagner  1.89  23.5  orl   dal   \n",
      "1918     Carter Jr., Wendell     WendellCarter Jr.  1.79  24.5  orl   dal   \n",
      "1919           Anthony, Cole           ColeAnthony  1.89  28.5  orl   dal   \n",
      "1920    Finney-Smith, Dorian    DorianFinney-Smith  1.89  17.5  orl   dal   \n",
      "1921            Doncic, Luka            LukaDoncic  2.00  46.5  orl   dal   \n",
      "1922            Conley, Mike            MikeConley  1.89  15.5  min  utah   \n",
      "1923        Clarkson, Jordan        JordanClarkson  1.86  18.5  min  utah   \n",
      "1924     Towns, Karl-Anthony     Karl-AnthonyTowns  1.90  24.5  min  utah   \n",
      "1925        Edwards, Anthony        AnthonyEdwards  1.86  22.5  min  utah   \n",
      "1926       Whiteside, Hassan       HassanWhiteside  1.95  14.5  min  utah   \n",
      "1927       Bogdanović, Bojan       BojanBogdanović  2.00  18.5  min  utah   \n",
      "1928      Vanderbilt, Jarred      JarredVanderbilt  2.10   8.5  min  utah   \n",
      "1929            Conley, Mike            MikeConley  1.80  25.5  min  utah   \n",
      "1930        Clarkson, Jordan        JordanClarkson  1.83  25.5  min  utah   \n",
      "1931     Towns, Karl-Anthony     Karl-AnthonyTowns  1.95  38.5  min  utah   \n",
      "1932        Edwards, Anthony        AnthonyEdwards  1.95  31.5  min  utah   \n",
      "1933       Whiteside, Hassan       HassanWhiteside  1.89  25.5  min  utah   \n",
      "1934       Bogdanović, Bojan       BojanBogdanović  1.89  24.5  min  utah   \n",
      "1935      Vanderbilt, Jarred      JarredVanderbilt  1.90  19.5  min  utah   \n",
      "1936              Jones, Tre              TreJones  1.89  11.5  phx    sa   \n",
      "1937         Johnson, Keldon         KeldonJohnson  1.89  15.5  phx    sa   \n",
      "1938         McDermott, Doug         DougMcDermott  1.79  12.5  phx    sa   \n",
      "1939              Jones, Tre              TreJones  2.00  23.5  phx    sa   \n",
      "1940         Johnson, Keldon         KeldonJohnson  1.89  24.5  phx    sa   \n",
      "1941         McDermott, Doug         DougMcDermott  2.00  18.5  phx    sa   \n",
      "1942          Bridges, Mikal          MikalBridges  1.84  12.5  phx    sa   \n",
      "1943           Booker, Devin           DevinBooker  1.89  28.5  phx    sa   \n",
      "1944             Paul, Chris             ChrisPaul  1.84  16.5  phx    sa   \n",
      "1945          Bridges, Mikal          MikalBridges  1.89  19.5  phx    sa   \n",
      "1946           Booker, Devin           DevinBooker  1.93  39.5  phx    sa   \n",
      "1947             Paul, Chris             ChrisPaul  1.89  33.5  phx    sa   \n",
      "1948           Craig, Torrey           TorreyCraig  2.05   8.5  ind   lac   \n",
      "1949         Holiday, Justin         JustinHoliday  1.89  11.5  ind   lac   \n",
      "1950             Sabonis, D.             D.Sabonis  1.89  20.5  ind   lac   \n",
      "1951              LeVert, C.              C.LeVert  1.95  20.5  ind   lac   \n",
      "1952           Duarte, Chris           ChrisDuarte  1.83  12.5  ind   lac   \n",
      "1953           Craig, Torrey           TorreyCraig  1.80  14.5  ind   lac   \n",
      "1954         Holiday, Justin         JustinHoliday  1.85  16.5  ind   lac   \n",
      "1955             Sabonis, D.             D.Sabonis  1.99  39.5  ind   lac   \n",
      "1956              LeVert, C.              C.LeVert  1.89  29.5  ind   lac   \n",
      "1957           Duarte, Chris           ChrisDuarte  1.89  19.5  ind   lac   \n",
      "1958            Coffey, Amir            AmirCoffey  1.80  17.5  ind   lac   \n",
      "1959         Jackson, Reggie         ReggieJackson  2.00  21.5  ind   lac   \n",
      "1960          Morris, Marcus          MarcusMorris  1.79  23.5  ind   lac   \n",
      "1961            Coffey, Amir            AmirCoffey  1.99  11.5  ind   lac   \n",
      "1962         Jackson, Reggie         ReggieJackson  1.93  15.5  ind   lac   \n",
      "1963          Morris, Marcus          MarcusMorris  1.99  16.5  ind   lac   \n",
      "1964         Barnes, Scottie         ScottieBarnes  1.79  14.5  atl   tor   \n",
      "1965          VanVleet, Fred          FredVanVleet  1.89  21.5  atl   tor   \n",
      "1966         Trent Jr., Gary         GaryTrent Jr.  1.70  17.5  atl   tor   \n",
      "1967             Anunoby, OG             OGAnunoby  1.89  17.5  atl   tor   \n",
      "1968          Siakam, Pascal          PascalSiakam  1.89  20.5  atl   tor   \n",
      "1969         Barnes, Scottie         ScottieBarnes  1.89  25.5  atl   tor   \n",
      "1970          VanVleet, Fred          FredVanVleet  1.89  32.5  atl   tor   \n",
      "1971         Trent Jr., Gary         GaryTrent Jr.  1.89  22.5  atl   tor   \n",
      "1972             Anunoby, OG             OGAnunoby  1.89  25.5  atl   tor   \n",
      "1973          Siakam, Pascal          PascalSiakam  1.89  34.5  atl   tor   \n",
      "1974             Barrett, RJ             RJBarrett  1.89  20.5   ny   sac   \n",
      "1975             Barrett, RJ             RJBarrett  1.79  30.5   ny   sac   \n",
      "1976          Randle, Julius          JuliusRandle  1.75  33.5   ny   sac   \n",
      "1977          Fournier, Evan          EvanFournier  1.79  18.5   ny   sac   \n",
      "1978      Robinson, Mitchell      MitchellRobinson  2.00  18.5   ny   sac   \n",
      "1979          Randle, Julius          JuliusRandle  1.83  18.5   ny   sac   \n",
      "1980          Fournier, Evan          EvanFournier  2.00  13.5   ny   sac   \n",
      "1981      Robinson, Mitchell      MitchellRobinson  2.00   9.5   ny   sac   \n",
      "1982           Looney, Kevon           KevonLooney  1.89   7.5  hou    gs   \n",
      "1983          Curry, Stephen          StephenCurry  1.95  24.5  hou    gs   \n",
      "1984         Wiggins, Andrew         AndrewWiggins  1.95  17.5  hou    gs   \n",
      "1985          Thompson, Klay          KlayThompson  1.89  16.5  hou    gs   \n",
      "1986           Looney, Kevon           KevonLooney  1.79  20.5  hou    gs   \n",
      "1987          Curry, Stephen          StephenCurry  1.89  37.5  hou    gs   \n",
      "1988         Wiggins, Andrew         AndrewWiggins  1.89  24.5  hou    gs   \n",
      "1989          Thompson, Klay          KlayThompson  1.89  23.5  hou    gs   \n",
      "\n",
      "     bet_type          id          changed_date  \n",
      "1852      PTS  3054074961  2022-01-30T10:50:01Z  \n",
      "1853      PTS  3054074963  2022-01-30T10:50:02Z  \n",
      "1854      PTS  3054074965  2022-01-30T10:50:02Z  \n",
      "1855      PTS  3054074967  2022-01-30T13:23:33Z  \n",
      "1856      PTS  3054074969  2022-01-30T20:09:46Z  \n",
      "1857      PTS  3054074971  2022-01-30T10:50:02Z  \n",
      "1858      PTS  3054074973  2022-01-30T10:50:02Z  \n",
      "1859      PTS  3054074975  2022-01-30T16:19:55Z  \n",
      "1860      PTS  3054074977  2022-01-30T10:50:02Z  \n",
      "1861      PTS  3054074979  2022-01-30T15:26:30Z  \n",
      "1862      ARP  3054075045  2022-01-30T10:55:51Z  \n",
      "1863      ARP  3054075047  2022-01-30T10:55:51Z  \n",
      "1864      ARP  3054075049  2022-01-30T10:55:51Z  \n",
      "1865      ARP  3054075051  2022-01-30T10:55:51Z  \n",
      "1866      ARP  3054075053  2022-01-30T19:50:43Z  \n",
      "1867      ARP  3054075055  2022-01-30T10:55:51Z  \n",
      "1868      ARP  3054075057  2022-01-30T10:55:51Z  \n",
      "1869      ARP  3054075059  2022-01-30T19:51:12Z  \n",
      "1870      ARP  3054075061  2022-01-30T10:55:51Z  \n",
      "1871      ARP  3054075063  2022-01-30T10:55:51Z  \n",
      "1872      PTS  3054082335  2022-01-30T11:17:42Z  \n",
      "1873      PTS  3054082337  2022-01-30T11:17:42Z  \n",
      "1874      PTS  3054082339  2022-01-30T11:17:42Z  \n",
      "1875      PTS  3054082341  2022-01-30T11:17:42Z  \n",
      "1876      PTS  3054082343  2022-01-30T11:17:42Z  \n",
      "1877      PTS  3054082345  2022-01-30T11:17:42Z  \n",
      "1878      PTS  3054082347  2022-01-30T11:17:42Z  \n",
      "1879      ARP  3054082447  2022-01-30T11:20:43Z  \n",
      "1880      ARP  3054082449  2022-01-30T11:20:43Z  \n",
      "1881      ARP  3054082451  2022-01-30T11:20:43Z  \n",
      "1882      ARP  3054082453  2022-01-30T11:20:43Z  \n",
      "1883      ARP  3054082455  2022-01-30T11:20:44Z  \n",
      "1884      ARP  3054082457  2022-01-30T11:20:44Z  \n",
      "1885      ARP  3054082459  2022-01-30T11:20:44Z  \n",
      "1886      PTS  3054082745  2022-01-30T11:45:00Z  \n",
      "1887      PTS  3054082747  2022-01-30T11:45:00Z  \n",
      "1888      PTS  3054082749  2022-01-30T11:45:00Z  \n",
      "1889      PTS  3054082751  2022-01-30T11:45:00Z  \n",
      "1890      PTS  3054082753  2022-01-30T11:45:00Z  \n",
      "1891      ARP  3054082775  2022-01-30T11:47:32Z  \n",
      "1892      ARP  3054082777  2022-01-30T11:47:32Z  \n",
      "1893      ARP  3054082779  2022-01-30T11:47:32Z  \n",
      "1894      ARP  3054082781  2022-01-30T11:47:32Z  \n",
      "1895      ARP  3054082783  2022-01-30T11:47:32Z  \n",
      "1896      PTS  3054245478  2022-01-30T18:34:45Z  \n",
      "1897      ARP  3054245556  2022-01-30T18:41:48Z  \n",
      "1898      ARP  3054245560  2022-01-30T16:18:48Z  \n",
      "1899      PTS  3054299247  2022-01-30T18:34:23Z  \n",
      "1900      PTS  3054299369  2022-01-30T20:24:02Z  \n",
      "1901      ARP  3054299458  2022-01-30T18:41:13Z  \n",
      "1902      PTS  3054265797  2022-01-30T17:00:50Z  \n",
      "1903      PTS  3054265799  2022-01-30T17:00:50Z  \n",
      "1904      PTS  3054265801  2022-01-30T17:00:50Z  \n",
      "1905      PTS  3054265803  2022-01-30T17:00:51Z  \n",
      "1906      PTS  3054265805  2022-01-30T17:00:51Z  \n",
      "1907      PTS  3054265807  2022-01-30T17:00:51Z  \n",
      "1908      PTS  3054265809  2022-01-30T17:00:51Z  \n",
      "1909      PTS  3054265811  2022-01-30T17:00:51Z  \n",
      "1910      PTS  3054265813  2022-01-30T17:00:51Z  \n",
      "1911      PTS  3054265815  2022-01-30T17:00:51Z  \n",
      "1912      ARP  3054266058  2022-01-30T17:06:26Z  \n",
      "1913      ARP  3054266060  2022-01-30T17:06:27Z  \n",
      "1914      ARP  3054266062  2022-01-30T17:06:27Z  \n",
      "1915      ARP  3054266064  2022-01-30T17:06:27Z  \n",
      "1916      ARP  3054266066  2022-01-30T17:06:27Z  \n",
      "1917      ARP  3054266068  2022-01-30T17:06:27Z  \n",
      "1918      ARP  3054266070  2022-01-30T17:06:27Z  \n",
      "1919      ARP  3054266072  2022-01-30T17:06:27Z  \n",
      "1920      ARP  3054266074  2022-01-30T17:06:27Z  \n",
      "1921      ARP  3054266076  2022-01-30T17:06:27Z  \n",
      "1922      PTS  3054288247  2022-01-30T18:36:29Z  \n",
      "1923      PTS  3054288249  2022-01-30T18:36:29Z  \n",
      "1924      PTS  3054288251  2022-01-30T18:36:30Z  \n",
      "1925      PTS  3054288253  2022-01-30T18:36:30Z  \n",
      "1926      PTS  3054288255  2022-01-30T18:36:30Z  \n",
      "1927      PTS  3054288257  2022-01-30T18:36:30Z  \n",
      "1928      PTS  3054288259  2022-01-30T18:36:30Z  \n",
      "1929      ARP  3054314242  2022-01-30T19:14:24Z  \n",
      "1930      ARP  3054314244  2022-01-30T19:14:25Z  \n",
      "1931      ARP  3054314246  2022-01-30T19:14:25Z  \n",
      "1932      ARP  3054314248  2022-01-30T19:14:25Z  \n",
      "1933      ARP  3054314250  2022-01-30T19:14:25Z  \n",
      "1934      ARP  3054314252  2022-01-30T19:14:25Z  \n",
      "1935      ARP  3054314254  2022-01-30T19:14:25Z  \n",
      "1936      PTS  3054274095  2022-01-30T17:16:03Z  \n",
      "1937      PTS  3054274097  2022-01-30T17:16:03Z  \n",
      "1938      PTS  3054274099  2022-01-30T17:16:03Z  \n",
      "1939      ARP  3054274382  2022-01-30T17:17:38Z  \n",
      "1940      ARP  3054274384  2022-01-30T17:17:38Z  \n",
      "1941      ARP  3054274386  2022-01-30T17:17:38Z  \n",
      "1942      PTS  3054295875  2022-01-30T18:18:10Z  \n",
      "1943      PTS  3054295877  2022-01-30T18:18:10Z  \n",
      "1944      PTS  3054295885  2022-01-30T18:18:11Z  \n",
      "1945      ARP  3054296318  2022-01-30T18:25:48Z  \n",
      "1946      ARP  3054296320  2022-01-30T20:07:43Z  \n",
      "1947      ARP  3054296322  2022-01-30T18:25:48Z  \n",
      "1948      PTS  3054726606  2022-01-31T18:25:59Z  \n",
      "1949      PTS  3054726608  2022-01-31T18:25:59Z  \n",
      "1950      PTS  3054726610  2022-01-31T18:25:59Z  \n",
      "1951      PTS  3054726612  2022-01-31T18:25:59Z  \n",
      "1952      PTS  3054726614  2022-01-31T18:25:59Z  \n",
      "1953      ARP  3054726887  2022-01-31T18:36:53Z  \n",
      "1954      ARP  3054726889  2022-01-31T18:36:53Z  \n",
      "1955      ARP  3054726891  2022-01-31T18:36:53Z  \n",
      "1956      ARP  3054726893  2022-01-31T18:36:53Z  \n",
      "1957      ARP  3054726895  2022-01-31T18:36:53Z  \n",
      "1958      ARP  3054764558  2022-01-31T18:54:18Z  \n",
      "1959      ARP  3054764560  2022-01-31T19:16:31Z  \n",
      "1960      ARP  3054764562  2022-01-31T18:54:18Z  \n",
      "1961      PTS  3054764630  2022-01-31T18:56:02Z  \n",
      "1962      PTS  3054764632  2022-01-31T18:56:02Z  \n",
      "1963      PTS  3054764634  2022-01-31T18:56:02Z  \n",
      "1964      PTS  3054600323  2022-01-31T12:38:45Z  \n",
      "1965      PTS  3054600325  2022-01-31T12:38:45Z  \n",
      "1966      PTS  3054600327  2022-01-31T15:38:57Z  \n",
      "1967      PTS  3054600329  2022-01-31T12:38:46Z  \n",
      "1968      PTS  3054600331  2022-01-31T12:38:46Z  \n",
      "1969      ARP  3054600356  2022-01-31T12:41:01Z  \n",
      "1970      ARP  3054600358  2022-01-31T19:22:53Z  \n",
      "1971      ARP  3054600360  2022-01-31T12:41:02Z  \n",
      "1972      ARP  3054600362  2022-01-31T12:41:02Z  \n",
      "1973      ARP  3054600364  2022-01-31T12:41:02Z  \n",
      "1974      PTS  3054476913  2022-01-31T03:36:06Z  \n",
      "1975      ARP  3054476942  2022-01-31T12:33:41Z  \n",
      "1976      ARP  3054476946  2022-01-31T17:38:30Z  \n",
      "1977      ARP  3054476948  2022-01-31T12:33:34Z  \n",
      "1978      ARP  3054476950  2022-01-31T12:33:37Z  \n",
      "1979      PTS  3054476968  2022-01-31T17:51:30Z  \n",
      "1980      PTS  3054476970  2022-01-31T12:32:45Z  \n",
      "1981      PTS  3054476972  2022-01-31T12:32:41Z  \n",
      "1982      PTS  3054724356  2022-01-31T17:02:46Z  \n",
      "1983      PTS  3054724358  2022-01-31T18:05:14Z  \n",
      "1984      PTS  3054724360  2022-01-31T18:19:55Z  \n",
      "1985      PTS  3054724362  2022-01-31T17:02:46Z  \n",
      "1986      ARP  3054724384  2022-01-31T17:04:50Z  \n",
      "1987      ARP  3054724386  2022-01-31T17:04:50Z  \n",
      "1988      ARP  3054724388  2022-01-31T17:04:50Z  \n",
      "1989      ARP  3054724390  2022-01-31T17:04:50Z  \n"
     ]
    },
    {
     "name": "stderr",
     "output_type": "stream",
     "text": [
      "PandasGUI INFO — pandasgui.gui — Opening PandasGUI\n"
     ]
    },
    {
     "data": {
      "text/plain": [
       "<pandasgui.gui.PandasGui at 0x265e4c7caf0>"
      ]
     },
     "execution_count": 7,
     "metadata": {},
     "output_type": "execute_result"
    }
   ],
   "source": [
    "import pprint\n",
    "pp = pprint.PrettyPrinter(indent=4)\n",
    "s_bets = stored_bets()\n",
    "todays_bets = s_bets[s_bets['changed_date']>'2022-01-31']\n",
    "pp.pprint(todays_bets)\n",
    "scored_bets_results = provide_results_with_bet_scoring(provide_stored_bet_results(todays_bets))\n",
    "show(pd.DataFrame(scored_bets_results))"
   ]
  },
  {
   "cell_type": "code",
   "execution_count": 5,
   "id": "3155d19c-c95c-47b1-ac67-b0412d338356",
   "metadata": {},
   "outputs": [
    {
     "ename": "AttributeError",
     "evalue": "'NoneType' object has no attribute 'keys'",
     "output_type": "error",
     "traceback": [
      "\u001b[1;31m---------------------------------------------------------------------------\u001b[0m",
      "\u001b[1;31mAttributeError\u001b[0m                            Traceback (most recent call last)",
      "\u001b[1;32m~\\AppData\\Local\\Temp/ipykernel_9352/3319867811.py\u001b[0m in \u001b[0;36m<module>\u001b[1;34m\u001b[0m\n\u001b[1;32m----> 1\u001b[1;33m \u001b[0mshow\u001b[0m\u001b[1;33m(\u001b[0m\u001b[0mpd\u001b[0m\u001b[1;33m.\u001b[0m\u001b[0mDataFrame\u001b[0m\u001b[1;33m(\u001b[0m\u001b[0mscored_bets_results\u001b[0m\u001b[1;33m)\u001b[0m\u001b[1;33m)\u001b[0m\u001b[1;33m\u001b[0m\u001b[1;33m\u001b[0m\u001b[0m\n\u001b[0m",
      "\u001b[1;32mc:\\users\\wrzes\\pycharmprojects\\nbawoj\\venv\\lib\\site-packages\\pandas\\core\\frame.py\u001b[0m in \u001b[0;36m__init__\u001b[1;34m(self, data, index, columns, dtype, copy)\u001b[0m\n\u001b[0;32m    692\u001b[0m                         \u001b[1;31m# ndarray], Index, Series], Sequence[Any]]\"\u001b[0m\u001b[1;33m\u001b[0m\u001b[1;33m\u001b[0m\u001b[1;33m\u001b[0m\u001b[0m\n\u001b[0;32m    693\u001b[0m                         \u001b[0mcolumns\u001b[0m \u001b[1;33m=\u001b[0m \u001b[0mensure_index\u001b[0m\u001b[1;33m(\u001b[0m\u001b[0mcolumns\u001b[0m\u001b[1;33m)\u001b[0m  \u001b[1;31m# type: ignore[arg-type]\u001b[0m\u001b[1;33m\u001b[0m\u001b[1;33m\u001b[0m\u001b[0m\n\u001b[1;32m--> 694\u001b[1;33m                     arrays, columns, index = nested_data_to_arrays(\n\u001b[0m\u001b[0;32m    695\u001b[0m                         \u001b[1;31m# error: Argument 3 to \"nested_data_to_arrays\" has incompatible\u001b[0m\u001b[1;33m\u001b[0m\u001b[1;33m\u001b[0m\u001b[1;33m\u001b[0m\u001b[0m\n\u001b[0;32m    696\u001b[0m                         \u001b[1;31m# type \"Optional[Collection[Any]]\"; expected \"Optional[Index]\"\u001b[0m\u001b[1;33m\u001b[0m\u001b[1;33m\u001b[0m\u001b[1;33m\u001b[0m\u001b[0m\n",
      "\u001b[1;32mc:\\users\\wrzes\\pycharmprojects\\nbawoj\\venv\\lib\\site-packages\\pandas\\core\\internals\\construction.py\u001b[0m in \u001b[0;36mnested_data_to_arrays\u001b[1;34m(data, columns, index, dtype)\u001b[0m\n\u001b[0;32m    481\u001b[0m         \u001b[0mcolumns\u001b[0m \u001b[1;33m=\u001b[0m \u001b[0mensure_index\u001b[0m\u001b[1;33m(\u001b[0m\u001b[0mdata\u001b[0m\u001b[1;33m[\u001b[0m\u001b[1;36m0\u001b[0m\u001b[1;33m]\u001b[0m\u001b[1;33m.\u001b[0m\u001b[0m_fields\u001b[0m\u001b[1;33m)\u001b[0m\u001b[1;33m\u001b[0m\u001b[1;33m\u001b[0m\u001b[0m\n\u001b[0;32m    482\u001b[0m \u001b[1;33m\u001b[0m\u001b[0m\n\u001b[1;32m--> 483\u001b[1;33m     \u001b[0marrays\u001b[0m\u001b[1;33m,\u001b[0m \u001b[0mcolumns\u001b[0m \u001b[1;33m=\u001b[0m \u001b[0mto_arrays\u001b[0m\u001b[1;33m(\u001b[0m\u001b[0mdata\u001b[0m\u001b[1;33m,\u001b[0m \u001b[0mcolumns\u001b[0m\u001b[1;33m,\u001b[0m \u001b[0mdtype\u001b[0m\u001b[1;33m=\u001b[0m\u001b[0mdtype\u001b[0m\u001b[1;33m)\u001b[0m\u001b[1;33m\u001b[0m\u001b[1;33m\u001b[0m\u001b[0m\n\u001b[0m\u001b[0;32m    484\u001b[0m     \u001b[0mcolumns\u001b[0m \u001b[1;33m=\u001b[0m \u001b[0mensure_index\u001b[0m\u001b[1;33m(\u001b[0m\u001b[0mcolumns\u001b[0m\u001b[1;33m)\u001b[0m\u001b[1;33m\u001b[0m\u001b[1;33m\u001b[0m\u001b[0m\n\u001b[0;32m    485\u001b[0m \u001b[1;33m\u001b[0m\u001b[0m\n",
      "\u001b[1;32mc:\\users\\wrzes\\pycharmprojects\\nbawoj\\venv\\lib\\site-packages\\pandas\\core\\internals\\construction.py\u001b[0m in \u001b[0;36mto_arrays\u001b[1;34m(data, columns, dtype)\u001b[0m\n\u001b[0;32m    797\u001b[0m         \u001b[0marr\u001b[0m \u001b[1;33m=\u001b[0m \u001b[0m_list_to_arrays\u001b[0m\u001b[1;33m(\u001b[0m\u001b[0mdata\u001b[0m\u001b[1;33m)\u001b[0m\u001b[1;33m\u001b[0m\u001b[1;33m\u001b[0m\u001b[0m\n\u001b[0;32m    798\u001b[0m     \u001b[1;32melif\u001b[0m \u001b[0misinstance\u001b[0m\u001b[1;33m(\u001b[0m\u001b[0mdata\u001b[0m\u001b[1;33m[\u001b[0m\u001b[1;36m0\u001b[0m\u001b[1;33m]\u001b[0m\u001b[1;33m,\u001b[0m \u001b[0mabc\u001b[0m\u001b[1;33m.\u001b[0m\u001b[0mMapping\u001b[0m\u001b[1;33m)\u001b[0m\u001b[1;33m:\u001b[0m\u001b[1;33m\u001b[0m\u001b[1;33m\u001b[0m\u001b[0m\n\u001b[1;32m--> 799\u001b[1;33m         \u001b[0marr\u001b[0m\u001b[1;33m,\u001b[0m \u001b[0mcolumns\u001b[0m \u001b[1;33m=\u001b[0m \u001b[0m_list_of_dict_to_arrays\u001b[0m\u001b[1;33m(\u001b[0m\u001b[0mdata\u001b[0m\u001b[1;33m,\u001b[0m \u001b[0mcolumns\u001b[0m\u001b[1;33m)\u001b[0m\u001b[1;33m\u001b[0m\u001b[1;33m\u001b[0m\u001b[0m\n\u001b[0m\u001b[0;32m    800\u001b[0m     \u001b[1;32melif\u001b[0m \u001b[0misinstance\u001b[0m\u001b[1;33m(\u001b[0m\u001b[0mdata\u001b[0m\u001b[1;33m[\u001b[0m\u001b[1;36m0\u001b[0m\u001b[1;33m]\u001b[0m\u001b[1;33m,\u001b[0m \u001b[0mABCSeries\u001b[0m\u001b[1;33m)\u001b[0m\u001b[1;33m:\u001b[0m\u001b[1;33m\u001b[0m\u001b[1;33m\u001b[0m\u001b[0m\n\u001b[0;32m    801\u001b[0m         \u001b[0marr\u001b[0m\u001b[1;33m,\u001b[0m \u001b[0mcolumns\u001b[0m \u001b[1;33m=\u001b[0m \u001b[0m_list_of_series_to_arrays\u001b[0m\u001b[1;33m(\u001b[0m\u001b[0mdata\u001b[0m\u001b[1;33m,\u001b[0m \u001b[0mcolumns\u001b[0m\u001b[1;33m)\u001b[0m\u001b[1;33m\u001b[0m\u001b[1;33m\u001b[0m\u001b[0m\n",
      "\u001b[1;32mc:\\users\\wrzes\\pycharmprojects\\nbawoj\\venv\\lib\\site-packages\\pandas\\core\\internals\\construction.py\u001b[0m in \u001b[0;36m_list_of_dict_to_arrays\u001b[1;34m(data, columns)\u001b[0m\n\u001b[0;32m    882\u001b[0m         \u001b[0mgen\u001b[0m \u001b[1;33m=\u001b[0m \u001b[1;33m(\u001b[0m\u001b[0mlist\u001b[0m\u001b[1;33m(\u001b[0m\u001b[0mx\u001b[0m\u001b[1;33m.\u001b[0m\u001b[0mkeys\u001b[0m\u001b[1;33m(\u001b[0m\u001b[1;33m)\u001b[0m\u001b[1;33m)\u001b[0m \u001b[1;32mfor\u001b[0m \u001b[0mx\u001b[0m \u001b[1;32min\u001b[0m \u001b[0mdata\u001b[0m\u001b[1;33m)\u001b[0m\u001b[1;33m\u001b[0m\u001b[1;33m\u001b[0m\u001b[0m\n\u001b[0;32m    883\u001b[0m         \u001b[0msort\u001b[0m \u001b[1;33m=\u001b[0m \u001b[1;32mnot\u001b[0m \u001b[0many\u001b[0m\u001b[1;33m(\u001b[0m\u001b[0misinstance\u001b[0m\u001b[1;33m(\u001b[0m\u001b[0md\u001b[0m\u001b[1;33m,\u001b[0m \u001b[0mdict\u001b[0m\u001b[1;33m)\u001b[0m \u001b[1;32mfor\u001b[0m \u001b[0md\u001b[0m \u001b[1;32min\u001b[0m \u001b[0mdata\u001b[0m\u001b[1;33m)\u001b[0m\u001b[1;33m\u001b[0m\u001b[1;33m\u001b[0m\u001b[0m\n\u001b[1;32m--> 884\u001b[1;33m         \u001b[0mpre_cols\u001b[0m \u001b[1;33m=\u001b[0m \u001b[0mlib\u001b[0m\u001b[1;33m.\u001b[0m\u001b[0mfast_unique_multiple_list_gen\u001b[0m\u001b[1;33m(\u001b[0m\u001b[0mgen\u001b[0m\u001b[1;33m,\u001b[0m \u001b[0msort\u001b[0m\u001b[1;33m=\u001b[0m\u001b[0msort\u001b[0m\u001b[1;33m)\u001b[0m\u001b[1;33m\u001b[0m\u001b[1;33m\u001b[0m\u001b[0m\n\u001b[0m\u001b[0;32m    885\u001b[0m         \u001b[0mcolumns\u001b[0m \u001b[1;33m=\u001b[0m \u001b[0mensure_index\u001b[0m\u001b[1;33m(\u001b[0m\u001b[0mpre_cols\u001b[0m\u001b[1;33m)\u001b[0m\u001b[1;33m\u001b[0m\u001b[1;33m\u001b[0m\u001b[0m\n\u001b[0;32m    886\u001b[0m \u001b[1;33m\u001b[0m\u001b[0m\n",
      "\u001b[1;32mc:\\users\\wrzes\\pycharmprojects\\nbawoj\\venv\\lib\\site-packages\\pandas\\_libs\\lib.pyx\u001b[0m in \u001b[0;36mpandas._libs.lib.fast_unique_multiple_list_gen\u001b[1;34m()\u001b[0m\n",
      "\u001b[1;32mc:\\users\\wrzes\\pycharmprojects\\nbawoj\\venv\\lib\\site-packages\\pandas\\core\\internals\\construction.py\u001b[0m in \u001b[0;36m<genexpr>\u001b[1;34m(.0)\u001b[0m\n\u001b[0;32m    880\u001b[0m     \"\"\"\n\u001b[0;32m    881\u001b[0m     \u001b[1;32mif\u001b[0m \u001b[0mcolumns\u001b[0m \u001b[1;32mis\u001b[0m \u001b[1;32mNone\u001b[0m\u001b[1;33m:\u001b[0m\u001b[1;33m\u001b[0m\u001b[1;33m\u001b[0m\u001b[0m\n\u001b[1;32m--> 882\u001b[1;33m         \u001b[0mgen\u001b[0m \u001b[1;33m=\u001b[0m \u001b[1;33m(\u001b[0m\u001b[0mlist\u001b[0m\u001b[1;33m(\u001b[0m\u001b[0mx\u001b[0m\u001b[1;33m.\u001b[0m\u001b[0mkeys\u001b[0m\u001b[1;33m(\u001b[0m\u001b[1;33m)\u001b[0m\u001b[1;33m)\u001b[0m \u001b[1;32mfor\u001b[0m \u001b[0mx\u001b[0m \u001b[1;32min\u001b[0m \u001b[0mdata\u001b[0m\u001b[1;33m)\u001b[0m\u001b[1;33m\u001b[0m\u001b[1;33m\u001b[0m\u001b[0m\n\u001b[0m\u001b[0;32m    883\u001b[0m         \u001b[0msort\u001b[0m \u001b[1;33m=\u001b[0m \u001b[1;32mnot\u001b[0m \u001b[0many\u001b[0m\u001b[1;33m(\u001b[0m\u001b[0misinstance\u001b[0m\u001b[1;33m(\u001b[0m\u001b[0md\u001b[0m\u001b[1;33m,\u001b[0m \u001b[0mdict\u001b[0m\u001b[1;33m)\u001b[0m \u001b[1;32mfor\u001b[0m \u001b[0md\u001b[0m \u001b[1;32min\u001b[0m \u001b[0mdata\u001b[0m\u001b[1;33m)\u001b[0m\u001b[1;33m\u001b[0m\u001b[1;33m\u001b[0m\u001b[0m\n\u001b[0;32m    884\u001b[0m         \u001b[0mpre_cols\u001b[0m \u001b[1;33m=\u001b[0m \u001b[0mlib\u001b[0m\u001b[1;33m.\u001b[0m\u001b[0mfast_unique_multiple_list_gen\u001b[0m\u001b[1;33m(\u001b[0m\u001b[0mgen\u001b[0m\u001b[1;33m,\u001b[0m \u001b[0msort\u001b[0m\u001b[1;33m=\u001b[0m\u001b[0msort\u001b[0m\u001b[1;33m)\u001b[0m\u001b[1;33m\u001b[0m\u001b[1;33m\u001b[0m\u001b[0m\n",
      "\u001b[1;31mAttributeError\u001b[0m: 'NoneType' object has no attribute 'keys'"
     ]
    }
   ],
   "source": [
    "show(pd.DataFrame(scored_bets_results))"
   ]
  },
  {
   "cell_type": "code",
   "execution_count": 4,
   "id": "d9b75cfa-ec58-4096-a080-3317bb375464",
   "metadata": {},
   "outputs": [
    {
     "ename": "TypeError",
     "evalue": "'function' object is not subscriptable",
     "output_type": "error",
     "traceback": [
      "\u001b[1;31m---------------------------------------------------------------------------\u001b[0m",
      "\u001b[1;31mTypeError\u001b[0m                                 Traceback (most recent call last)",
      "\u001b[1;32m~\\AppData\\Local\\Temp/ipykernel_9376/1422613038.py\u001b[0m in \u001b[0;36m<module>\u001b[1;34m\u001b[0m\n\u001b[1;32m----> 1\u001b[1;33m \u001b[0mtodays_bets\u001b[0m \u001b[1;33m=\u001b[0m \u001b[0mstored_bets\u001b[0m\u001b[1;33m[\u001b[0m\u001b[0mstored_bets\u001b[0m\u001b[1;33m[\u001b[0m\u001b[1;34m'changed_date'\u001b[0m\u001b[1;33m]\u001b[0m\u001b[1;33m>\u001b[0m\u001b[1;34m'2022-01-22'\u001b[0m\u001b[1;33m]\u001b[0m\u001b[1;33m\u001b[0m\u001b[1;33m\u001b[0m\u001b[0m\n\u001b[0m",
      "\u001b[1;31mTypeError\u001b[0m: 'function' object is not subscriptable"
     ]
    }
   ],
   "source": [
    "todays_bets = stored_bets[stored_bets['changed_date']>'2022-01-22']"
   ]
  },
  {
   "cell_type": "code",
   "execution_count": 3,
   "id": "d042be32-1d02-4c4c-89f3-35e59552fb42",
   "metadata": {},
   "outputs": [
    {
     "ename": "TypeError",
     "evalue": "'DataFrame' object is not callable",
     "output_type": "error",
     "traceback": [
      "\u001b[1;31m---------------------------------------------------------------------------\u001b[0m",
      "\u001b[1;31mTypeError\u001b[0m                                 Traceback (most recent call last)",
      "\u001b[1;32m~\\AppData\\Local\\Temp/ipykernel_19720/10132627.py\u001b[0m in \u001b[0;36m<module>\u001b[1;34m\u001b[0m\n\u001b[1;32m----> 1\u001b[1;33m \u001b[0mstored_bets\u001b[0m \u001b[1;33m=\u001b[0m \u001b[0mstored_bets\u001b[0m\u001b[1;33m(\u001b[0m\u001b[1;33m)\u001b[0m\u001b[1;33m\u001b[0m\u001b[1;33m\u001b[0m\u001b[0m\n\u001b[0m\u001b[0;32m      2\u001b[0m \u001b[0mscored_bets_results\u001b[0m \u001b[1;33m=\u001b[0m \u001b[0mprovide_results_with_bet_scoring\u001b[0m\u001b[1;33m(\u001b[0m\u001b[0mprovide_stored_bet_results\u001b[0m\u001b[1;33m(\u001b[0m\u001b[0mstored_bets\u001b[0m\u001b[1;33m)\u001b[0m\u001b[1;33m)\u001b[0m\u001b[1;33m\u001b[0m\u001b[1;33m\u001b[0m\u001b[0m\n\u001b[0;32m      3\u001b[0m \u001b[0mshow\u001b[0m\u001b[1;33m(\u001b[0m\u001b[0mpd\u001b[0m\u001b[1;33m.\u001b[0m\u001b[0mDataFrame\u001b[0m\u001b[1;33m(\u001b[0m\u001b[0mscored_bets_results\u001b[0m\u001b[1;33m)\u001b[0m\u001b[1;33m)\u001b[0m\u001b[1;33m\u001b[0m\u001b[1;33m\u001b[0m\u001b[0m\n",
      "\u001b[1;31mTypeError\u001b[0m: 'DataFrame' object is not callable"
     ]
    }
   ],
   "source": [
    "stored_bets = stored_bets()\n",
    "scored_bets_results = provide_results_with_bet_scoring(provide_stored_bet_results(stored_bets))\n",
    "show(pd.DataFrame(scored_bets_results))"
   ]
  },
  {
   "cell_type": "code",
   "execution_count": null,
   "id": "50002dae-5fe4-4fb2-ad14-b349efc7bc4c",
   "metadata": {},
   "outputs": [],
   "source": [
    "dicts = provide_bet_results()\n",
    "df = pd.DataFrame(dicts)"
   ]
  },
  {
   "cell_type": "code",
   "execution_count": 5,
   "id": "894e9710-07cf-4988-868d-8696430196c7",
   "metadata": {},
   "outputs": [
    {
     "name": "stderr",
     "output_type": "stream",
     "text": [
      "PandasGUI INFO — pandasgui.gui — Opening PandasGUI\n"
     ]
    },
    {
     "data": {
      "text/plain": [
       "<pandasgui.gui.PandasGui at 0x2e9071fe790>"
      ]
     },
     "execution_count": 5,
     "metadata": {},
     "output_type": "execute_result"
    }
   ],
   "source": [
    "show(pd.DataFrame(this_season_analysis(bets)))"
   ]
  },
  {
   "cell_type": "code",
   "execution_count": 4,
   "id": "2f231eb4-1a66-421c-bfbc-e584b4e505c2",
   "metadata": {},
   "outputs": [
    {
     "name": "stderr",
     "output_type": "stream",
     "text": [
      "PandasGUI INFO — pandasgui.gui — Opening PandasGUI\n"
     ]
    },
    {
     "data": {
      "text/plain": [
       "<pandasgui.gui.PandasGui at 0x1ba2e4ce8b0>"
      ]
     },
     "execution_count": 4,
     "metadata": {},
     "output_type": "execute_result"
    },
    {
     "name": "stderr",
     "output_type": "stream",
     "text": [
      "PandasGUI ERROR — pandasgui.store — name 'arp' is not defined\n",
      "Traceback (most recent call last):\n",
      "  File \"c:\\users\\wrzes\\pycharmprojects\\nbawoj\\venv\\lib\\site-packages\\pandas\\core\\computation\\scope.py\", line 200, in resolve\n",
      "    return self.resolvers[key]\n",
      "  File \"C:\\Users\\wrzes\\AppData\\Local\\Programs\\Python\\Python39\\lib\\collections\\__init__.py\", line 941, in __getitem__\n",
      "    return self.__missing__(key)            # support subclasses that define __missing__\n",
      "  File \"C:\\Users\\wrzes\\AppData\\Local\\Programs\\Python\\Python39\\lib\\collections\\__init__.py\", line 933, in __missing__\n",
      "    raise KeyError(key)\n",
      "KeyError: 'arp'\n",
      "\n",
      "During handling of the above exception, another exception occurred:\n",
      "\n",
      "Traceback (most recent call last):\n",
      "  File \"c:\\users\\wrzes\\pycharmprojects\\nbawoj\\venv\\lib\\site-packages\\pandas\\core\\computation\\scope.py\", line 211, in resolve\n",
      "    return self.temps[key]\n",
      "KeyError: 'arp'\n",
      "\n",
      "The above exception was the direct cause of the following exception:\n",
      "\n",
      "Traceback (most recent call last):\n",
      "  File \"c:\\users\\wrzes\\pycharmprojects\\nbawoj\\venv\\lib\\site-packages\\pandasgui\\store.py\", line 594, in apply_filters\n",
      "    df = df.query(filt.expr)\n",
      "  File \"c:\\users\\wrzes\\pycharmprojects\\nbawoj\\venv\\lib\\site-packages\\pandas\\core\\frame.py\", line 4060, in query\n",
      "    res = self.eval(expr, **kwargs)\n",
      "  File \"c:\\users\\wrzes\\pycharmprojects\\nbawoj\\venv\\lib\\site-packages\\pandas\\core\\frame.py\", line 4191, in eval\n",
      "    return _eval(expr, inplace=inplace, **kwargs)\n",
      "  File \"c:\\users\\wrzes\\pycharmprojects\\nbawoj\\venv\\lib\\site-packages\\pandas\\core\\computation\\eval.py\", line 348, in eval\n",
      "    parsed_expr = Expr(expr, engine=engine, parser=parser, env=env)\n",
      "  File \"c:\\users\\wrzes\\pycharmprojects\\nbawoj\\venv\\lib\\site-packages\\pandas\\core\\computation\\expr.py\", line 806, in __init__\n",
      "    self.terms = self.parse()\n",
      "  File \"c:\\users\\wrzes\\pycharmprojects\\nbawoj\\venv\\lib\\site-packages\\pandas\\core\\computation\\expr.py\", line 825, in parse\n",
      "    return self._visitor.visit(self.expr)\n",
      "  File \"c:\\users\\wrzes\\pycharmprojects\\nbawoj\\venv\\lib\\site-packages\\pandas\\core\\computation\\expr.py\", line 411, in visit\n",
      "    return visitor(node, **kwargs)\n",
      "  File \"c:\\users\\wrzes\\pycharmprojects\\nbawoj\\venv\\lib\\site-packages\\pandas\\core\\computation\\expr.py\", line 417, in visit_Module\n",
      "    return self.visit(expr, **kwargs)\n",
      "  File \"c:\\users\\wrzes\\pycharmprojects\\nbawoj\\venv\\lib\\site-packages\\pandas\\core\\computation\\expr.py\", line 411, in visit\n",
      "    return visitor(node, **kwargs)\n",
      "  File \"c:\\users\\wrzes\\pycharmprojects\\nbawoj\\venv\\lib\\site-packages\\pandas\\core\\computation\\expr.py\", line 420, in visit_Expr\n",
      "    return self.visit(node.value, **kwargs)\n",
      "  File \"c:\\users\\wrzes\\pycharmprojects\\nbawoj\\venv\\lib\\site-packages\\pandas\\core\\computation\\expr.py\", line 411, in visit\n",
      "    return visitor(node, **kwargs)\n",
      "  File \"c:\\users\\wrzes\\pycharmprojects\\nbawoj\\venv\\lib\\site-packages\\pandas\\core\\computation\\expr.py\", line 718, in visit_Compare\n",
      "    return self.visit(binop)\n",
      "  File \"c:\\users\\wrzes\\pycharmprojects\\nbawoj\\venv\\lib\\site-packages\\pandas\\core\\computation\\expr.py\", line 411, in visit\n",
      "    return visitor(node, **kwargs)\n",
      "  File \"c:\\users\\wrzes\\pycharmprojects\\nbawoj\\venv\\lib\\site-packages\\pandas\\core\\computation\\expr.py\", line 532, in visit_BinOp\n",
      "    op, op_class, left, right = self._maybe_transform_eq_ne(node)\n",
      "  File \"c:\\users\\wrzes\\pycharmprojects\\nbawoj\\venv\\lib\\site-packages\\pandas\\core\\computation\\expr.py\", line 454, in _maybe_transform_eq_ne\n",
      "    right = self.visit(node.right, side=\"right\")\n",
      "  File \"c:\\users\\wrzes\\pycharmprojects\\nbawoj\\venv\\lib\\site-packages\\pandas\\core\\computation\\expr.py\", line 411, in visit\n",
      "    return visitor(node, **kwargs)\n",
      "  File \"c:\\users\\wrzes\\pycharmprojects\\nbawoj\\venv\\lib\\site-packages\\pandas\\core\\computation\\expr.py\", line 545, in visit_Name\n",
      "    return self.term_type(node.id, self.env, **kwargs)\n",
      "  File \"c:\\users\\wrzes\\pycharmprojects\\nbawoj\\venv\\lib\\site-packages\\pandas\\core\\computation\\ops.py\", line 98, in __init__\n",
      "    self._value = self._resolve_name()\n",
      "  File \"c:\\users\\wrzes\\pycharmprojects\\nbawoj\\venv\\lib\\site-packages\\pandas\\core\\computation\\ops.py\", line 115, in _resolve_name\n",
      "    res = self.env.resolve(self.local_name, is_local=self.is_local)\n",
      "  File \"c:\\users\\wrzes\\pycharmprojects\\nbawoj\\venv\\lib\\site-packages\\pandas\\core\\computation\\scope.py\", line 216, in resolve\n",
      "    raise UndefinedVariableError(key, is_local) from err\n",
      "pandas.core.computation.ops.UndefinedVariableError: name 'arp' is not defined\n",
      "PandasGUI ERROR — pandasgui.store — EOL while scanning string literal (<unknown>, line 1)\n",
      "Traceback (most recent call last):\n",
      "  File \"c:\\users\\wrzes\\pycharmprojects\\nbawoj\\venv\\lib\\site-packages\\pandasgui\\store.py\", line 594, in apply_filters\n",
      "    df = df.query(filt.expr)\n",
      "  File \"c:\\users\\wrzes\\pycharmprojects\\nbawoj\\venv\\lib\\site-packages\\pandas\\core\\frame.py\", line 4060, in query\n",
      "    res = self.eval(expr, **kwargs)\n",
      "  File \"c:\\users\\wrzes\\pycharmprojects\\nbawoj\\venv\\lib\\site-packages\\pandas\\core\\frame.py\", line 4191, in eval\n",
      "    return _eval(expr, inplace=inplace, **kwargs)\n",
      "  File \"c:\\users\\wrzes\\pycharmprojects\\nbawoj\\venv\\lib\\site-packages\\pandas\\core\\computation\\eval.py\", line 348, in eval\n",
      "    parsed_expr = Expr(expr, engine=engine, parser=parser, env=env)\n",
      "  File \"c:\\users\\wrzes\\pycharmprojects\\nbawoj\\venv\\lib\\site-packages\\pandas\\core\\computation\\expr.py\", line 806, in __init__\n",
      "    self.terms = self.parse()\n",
      "  File \"c:\\users\\wrzes\\pycharmprojects\\nbawoj\\venv\\lib\\site-packages\\pandas\\core\\computation\\expr.py\", line 825, in parse\n",
      "    return self._visitor.visit(self.expr)\n",
      "  File \"c:\\users\\wrzes\\pycharmprojects\\nbawoj\\venv\\lib\\site-packages\\pandas\\core\\computation\\expr.py\", line 407, in visit\n",
      "    raise e\n",
      "  File \"c:\\users\\wrzes\\pycharmprojects\\nbawoj\\venv\\lib\\site-packages\\pandas\\core\\computation\\expr.py\", line 403, in visit\n",
      "    node = ast.fix_missing_locations(ast.parse(clean))\n",
      "  File \"C:\\Users\\wrzes\\AppData\\Local\\Programs\\Python\\Python39\\lib\\ast.py\", line 50, in parse\n",
      "    return compile(source, filename, mode, flags,\n",
      "  File \"<unknown>\", line 1\n",
      "    type ==\"arp \n",
      "                ^\n",
      "SyntaxError: EOL while scanning string literal\n",
      "PandasGUI ERROR — pandasgui.store — EOL while scanning string literal (<unknown>, line 1)\n",
      "Traceback (most recent call last):\n",
      "  File \"c:\\users\\wrzes\\pycharmprojects\\nbawoj\\venv\\lib\\site-packages\\pandasgui\\store.py\", line 594, in apply_filters\n",
      "    df = df.query(filt.expr)\n",
      "  File \"c:\\users\\wrzes\\pycharmprojects\\nbawoj\\venv\\lib\\site-packages\\pandas\\core\\frame.py\", line 4060, in query\n",
      "    res = self.eval(expr, **kwargs)\n",
      "  File \"c:\\users\\wrzes\\pycharmprojects\\nbawoj\\venv\\lib\\site-packages\\pandas\\core\\frame.py\", line 4191, in eval\n",
      "    return _eval(expr, inplace=inplace, **kwargs)\n",
      "  File \"c:\\users\\wrzes\\pycharmprojects\\nbawoj\\venv\\lib\\site-packages\\pandas\\core\\computation\\eval.py\", line 348, in eval\n",
      "    parsed_expr = Expr(expr, engine=engine, parser=parser, env=env)\n",
      "  File \"c:\\users\\wrzes\\pycharmprojects\\nbawoj\\venv\\lib\\site-packages\\pandas\\core\\computation\\expr.py\", line 806, in __init__\n",
      "    self.terms = self.parse()\n",
      "  File \"c:\\users\\wrzes\\pycharmprojects\\nbawoj\\venv\\lib\\site-packages\\pandas\\core\\computation\\expr.py\", line 825, in parse\n",
      "    return self._visitor.visit(self.expr)\n",
      "  File \"c:\\users\\wrzes\\pycharmprojects\\nbawoj\\venv\\lib\\site-packages\\pandas\\core\\computation\\expr.py\", line 407, in visit\n",
      "    raise e\n",
      "  File \"c:\\users\\wrzes\\pycharmprojects\\nbawoj\\venv\\lib\\site-packages\\pandas\\core\\computation\\expr.py\", line 403, in visit\n",
      "    node = ast.fix_missing_locations(ast.parse(clean))\n",
      "  File \"C:\\Users\\wrzes\\AppData\\Local\\Programs\\Python\\Python39\\lib\\ast.py\", line 50, in parse\n",
      "    return compile(source, filename, mode, flags,\n",
      "  File \"<unknown>\", line 1\n",
      "    \"\n",
      "     ^\n",
      "SyntaxError: EOL while scanning string literal\n"
     ]
    }
   ],
   "source": [
    "scoring = bets_scoring_df(bets)\n",
    "show(scoring)"
   ]
  },
  {
   "cell_type": "code",
   "execution_count": null,
   "id": "c6f8e42b-9d02-41ed-9636-dd4b89db464c",
   "metadata": {},
   "outputs": [],
   "source": [
    "player_stat_df = players_in_bets(bets)\n",
    "show(player_stat_df[player_stat_df['player_name']== 'GaryHarris'])"
   ]
  },
  {
   "cell_type": "code",
   "execution_count": 4,
   "id": "bfcca307-a120-4719-9c1e-24c3671e371f",
   "metadata": {},
   "outputs": [
    {
     "name": "stderr",
     "output_type": "stream",
     "text": [
      "PandasGUI INFO — pandasgui.gui — Opening PandasGUI\n"
     ]
    },
    {
     "data": {
      "text/plain": [
       "<pandasgui.gui.PandasGui at 0x2b490cbfb80>"
      ]
     },
     "execution_count": 4,
     "metadata": {},
     "output_type": "execute_result"
    }
   ],
   "source": [
    "show(this_season_analysis(bets))"
   ]
  },
  {
   "cell_type": "code",
   "execution_count": null,
   "id": "6a2b62f0-8063-4731-b527-035870d2c013",
   "metadata": {},
   "outputs": [],
   "source": [
    "bet = bets[0]\n",
    "players[(players['player_name']==bet['name_ESPN']) & (players['Date']==bet['changed_date'][0:10])]"
   ]
  },
  {
   "cell_type": "code",
   "execution_count": 14,
   "id": "ac7661a1-6afe-4767-91b4-c4232e76b6ce",
   "metadata": {},
   "outputs": [],
   "source": [
    "scoring['score_sum'] = scoring['over_rtg'] - scoring['under_rtg']"
   ]
  },
  {
   "cell_type": "code",
   "execution_count": 15,
   "id": "7f279a04-9978-436a-b840-3f7168212119",
   "metadata": {},
   "outputs": [
    {
     "name": "stderr",
     "output_type": "stream",
     "text": [
      "PandasGUI INFO — pandasgui.gui — Opening PandasGUI\n"
     ]
    },
    {
     "data": {
      "text/plain": [
       "<pandasgui.gui.PandasGui at 0x2b4a19e64c0>"
      ]
     },
     "execution_count": 15,
     "metadata": {},
     "output_type": "execute_result"
    }
   ],
   "source": [
    "show(scoring)\n"
   ]
  },
  {
   "cell_type": "markdown",
   "id": "2a20953e-7a97-45c7-9873-b9e15a11540e",
   "metadata": {
    "jp-MarkdownHeadingCollapsed": true,
    "tags": []
   },
   "source": [
    "# Players dashboard\n",
    "## last_x_games(number_of_games) -> graphs last x games (home - dotted blue, away - dotted red) \n",
    "## weekly graphs of ARP\n",
    "## how player performs agains teams assigned to defensive tier\n",
    "### defensive tiers: division is based on following descriptive assumptions\n",
    "#### 1-4 Finals contenders\n",
    "#### 5-12 Playoffs contenders\n",
    "#### 13-22 Playoff possible\n",
    "#### 23-30 Table bottom\n",
    "\n"
   ]
  },
  {
   "cell_type": "code",
   "execution_count": null,
   "id": "a51396f8-e62e-4bae-a418-69e05e799541",
   "metadata": {},
   "outputs": [],
   "source": [
    "bets"
   ]
  }
 ],
 "metadata": {
  "kernelspec": {
   "display_name": "Python 3 (ipykernel)",
   "language": "python",
   "name": "python3"
  },
  "language_info": {
   "codemirror_mode": {
    "name": "ipython",
    "version": 3
   },
   "file_extension": ".py",
   "mimetype": "text/x-python",
   "name": "python",
   "nbconvert_exporter": "python",
   "pygments_lexer": "ipython3",
   "version": "3.9.6"
  }
 },
 "nbformat": 4,
 "nbformat_minor": 5
}
