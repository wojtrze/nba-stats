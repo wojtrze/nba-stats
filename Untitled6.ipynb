{
 "cells": [
  {
   "cell_type": "code",
   "execution_count": 1,
   "id": "f2e025ed-4282-43a6-bb42-2c3455e08136",
   "metadata": {},
   "outputs": [],
   "source": [
    "from bet_fetcher import *\n",
    "from bet_analizator import *\n",
    "from gamelogs_fetcher import *\n",
    "import pandas as pd\n",
    "\n",
    "\n",
    "\n",
    "#pd.set_option(\"expand_frame_repr\", True)\n",
    "# type == \"PTS\" and (-8 < over_rtg < -6) or (-0.7 < over_rtg < 0.18) and range < 7.5 - duże szanse na under PTS\n",
    "# type ==\"ARP\" and -3 < over_rtg < 2 and range < 2.5\n",
    "\n",
    "# z dnia 21.01\n",
    "# -3 < under_rtg < -1 and desc == \"LG3\" and type ==\"PTS\" # over 13-5\n",
    "# -2 < over_rtg < -0 and desc == \"LG7-GLOC\" # over 6-3 PTS, 5-1 ARP\n",
    "\n",
    "# odds != 1.89 and type == \"ARP\" and desc ==\"LG3\" and (over_count ==0 or over_count ==3) # znaczna przewaga underów\n",
    "# type == \"ARP\" and desc ==\"LG3\" and (over_count ==0 or over_count ==3) # przewaga underów\n",
    "# over_count >= 6 and desc == \"LG7-GLOC\" and type ==\"ARP\" # przewaga underów\n",
    "\n",
    "# line > q80 and under_count > over_count and (over_count + under_count) > 2\n",
    "# line < q20 and under_count < over_count and (over_count + under_count) > 3"
   ]
  },
  {
   "cell_type": "code",
   "execution_count": 2,
   "id": "fbcdff8a-dfab-42a6-b77f-adcc74c344d2",
   "metadata": {},
   "outputs": [
    {
     "name": "stdout",
     "output_type": "stream",
     "text": [
      "game_id: 1007985795 - 0 total offers count\n",
      "game_id: 1007985788 - 16 total offers count\n",
      "game_id: 1007988551 - 32 total offers count\n",
      "game_id: 1007985772 - 48 total offers count\n",
      "game_id: 1007985779 - 58 total offers count\n"
     ]
    },
    {
     "name": "stderr",
     "output_type": "stream",
     "text": [
      "C:\\Users\\wrzes\\PycharmProjects\\nbawoj\\bet_analizator.py:135: RuntimeWarning: divide by zero encountered in double_scalars\n",
      "  offset_to_range = min_diff / uptolow\n",
      "PandasGUI INFO — pandasgui.gui — Opening PandasGUI\n"
     ]
    },
    {
     "data": {
      "text/plain": [
       "<pandasgui.gui.PandasGui at 0x26f56aa29d0>"
      ]
     },
     "execution_count": 2,
     "metadata": {},
     "output_type": "execute_result"
    }
   ],
   "source": [
    "bets = all_today_bets()\n",
    "store_bets(bets)\n",
    "# show(bets_scoring_df(bets)) skombinowane wyniki z this season analysis\n",
    "show(pd.DataFrame(this_season_analysis(bets)))"
   ]
  },
  {
   "cell_type": "code",
   "execution_count": 9,
   "id": "b83e46a7-5c9b-4275-833e-83ee8c37e6ff",
   "metadata": {},
   "outputs": [
    {
     "name": "stderr",
     "output_type": "stream",
     "text": [
      "C:\\Users\\wrzes\\PycharmProjects\\nbawoj\\bet_analizator.py:135: RuntimeWarning:\n",
      "\n",
      "divide by zero encountered in double_scalars\n",
      "\n",
      "PandasGUI INFO — pandasgui.gui — Opening PandasGUI\n"
     ]
    },
    {
     "data": {
      "text/plain": [
       "<pandasgui.gui.PandasGui at 0x28081735790>"
      ]
     },
     "execution_count": 9,
     "metadata": {},
     "output_type": "execute_result"
    }
   ],
   "source": [
    "show(pd.DataFrame(this_season_analysis(bets)))"
   ]
  },
  {
   "cell_type": "code",
   "execution_count": 2,
   "id": "d042be32-1d02-4c4c-89f3-35e59552fb42",
   "metadata": {},
   "outputs": [
    {
     "name": "stdout",
     "output_type": "stream",
     "text": [
      "gamelog issue\n",
      "gamelog issue\n",
      "gamelog issue\n",
      "gamelog issue\n",
      "gamelog issue\n",
      "gamelog issue\n",
      "gamelog issue\n",
      "gamelog issue\n",
      "gamelog issue\n",
      "gamelog issue\n",
      "gamelog issue\n",
      "gamelog issue\n",
      "gamelog issue\n",
      "gamelog issue\n",
      "gamelog issue\n",
      "gamelog issue\n",
      "gamelog issue\n",
      "gamelog issue\n",
      "gamelog issue\n",
      "gamelog issue\n",
      "gamelog issue\n",
      "gamelog issue\n",
      "gamelog issue\n",
      "gamelog issue\n",
      "gamelog issue\n",
      "gamelog issue\n",
      "gamelog issue\n",
      "gamelog issue\n",
      "gamelog issue\n",
      "gamelog issue\n",
      "gamelog issue\n",
      "gamelog issue\n",
      "gamelog issue\n",
      "gamelog issue\n",
      "gamelog issue\n",
      "gamelog issue\n",
      "gamelog issue\n",
      "gamelog issue\n",
      "gamelog issue\n",
      "gamelog issue\n",
      "gamelog issue\n",
      "gamelog issue\n",
      "gamelog issue\n",
      "gamelog issue\n",
      "gamelog issue\n",
      "gamelog issue\n",
      "gamelog issue\n",
      "gamelog issue\n",
      "gamelog issue\n",
      "gamelog issue\n",
      "gamelog issue\n",
      "gamelog issue\n",
      "gamelog issue\n",
      "gamelog issue\n",
      "gamelog issue\n",
      "gamelog issue\n",
      "gamelog issue\n",
      "gamelog issue\n",
      "gamelog issue\n",
      "gamelog issue\n",
      "gamelog issue\n",
      "gamelog issue\n",
      "gamelog issue\n",
      "gamelog issue\n",
      "gamelog issue\n",
      "gamelog issue\n",
      "gamelog issue\n",
      "gamelog issue\n",
      "gamelog issue\n",
      "gamelog issue\n",
      "gamelog issue\n",
      "gamelog issue\n",
      "gamelog issue\n",
      "gamelog issue\n",
      "gamelog issue\n",
      "gamelog issue\n",
      "gamelog issue\n",
      "gamelog issue\n",
      "gamelog issue\n"
     ]
    },
    {
     "name": "stderr",
     "output_type": "stream",
     "text": [
      "C:\\Users\\wrzes\\PycharmProjects\\nbawoj\\bet_analizator.py:135: RuntimeWarning: divide by zero encountered in double_scalars\n",
      "  offset_to_range = min_diff / uptolow\n",
      "PandasGUI INFO — pandasgui.gui — Opening PandasGUI\n"
     ]
    },
    {
     "data": {
      "text/plain": [
       "<pandasgui.gui.PandasGui at 0x15c751dedc0>"
      ]
     },
     "execution_count": 2,
     "metadata": {},
     "output_type": "execute_result"
    }
   ],
   "source": [
    "stored_bets = stored_bets()\n",
    "scored_bets_results = provide_results_with_bet_scoring(provide_stored_bet_results(stored_bets))\n",
    "show(pd.DataFrame(scored_bets_results))"
   ]
  },
  {
   "cell_type": "code",
   "execution_count": 4,
   "id": "65c7f94d-f403-4a1c-873f-78350b86479a",
   "metadata": {},
   "outputs": [
    {
     "name": "stderr",
     "output_type": "stream",
     "text": [
      "PandasGUI INFO — pandasgui.gui — Opening PandasGUI\n"
     ]
    },
    {
     "data": {
      "text/plain": [
       "<pandasgui.gui.PandasGui at 0x15c12db9f70>"
      ]
     },
     "execution_count": 4,
     "metadata": {},
     "output_type": "execute_result"
    },
    {
     "name": "stderr",
     "output_type": "stream",
     "text": [
      "PandasGUI ERROR — pandasgui.store — cannot assign without a target object\n",
      "Traceback (most recent call last):\n",
      "  File \"c:\\users\\wrzes\\pycharmprojects\\nbawoj\\venv\\lib\\site-packages\\pandasgui\\store.py\", line 594, in apply_filters\n",
      "    df = df.query(filt.expr)\n",
      "  File \"c:\\users\\wrzes\\pycharmprojects\\nbawoj\\venv\\lib\\site-packages\\pandas\\core\\frame.py\", line 4060, in query\n",
      "    res = self.eval(expr, **kwargs)\n",
      "  File \"c:\\users\\wrzes\\pycharmprojects\\nbawoj\\venv\\lib\\site-packages\\pandas\\core\\frame.py\", line 4191, in eval\n",
      "    return _eval(expr, inplace=inplace, **kwargs)\n",
      "  File \"c:\\users\\wrzes\\pycharmprojects\\nbawoj\\venv\\lib\\site-packages\\pandas\\core\\computation\\eval.py\", line 348, in eval\n",
      "    parsed_expr = Expr(expr, engine=engine, parser=parser, env=env)\n",
      "  File \"c:\\users\\wrzes\\pycharmprojects\\nbawoj\\venv\\lib\\site-packages\\pandas\\core\\computation\\expr.py\", line 806, in __init__\n",
      "    self.terms = self.parse()\n",
      "  File \"c:\\users\\wrzes\\pycharmprojects\\nbawoj\\venv\\lib\\site-packages\\pandas\\core\\computation\\expr.py\", line 825, in parse\n",
      "    return self._visitor.visit(self.expr)\n",
      "  File \"c:\\users\\wrzes\\pycharmprojects\\nbawoj\\venv\\lib\\site-packages\\pandas\\core\\computation\\expr.py\", line 411, in visit\n",
      "    return visitor(node, **kwargs)\n",
      "  File \"c:\\users\\wrzes\\pycharmprojects\\nbawoj\\venv\\lib\\site-packages\\pandas\\core\\computation\\expr.py\", line 417, in visit_Module\n",
      "    return self.visit(expr, **kwargs)\n",
      "  File \"c:\\users\\wrzes\\pycharmprojects\\nbawoj\\venv\\lib\\site-packages\\pandas\\core\\computation\\expr.py\", line 411, in visit\n",
      "    return visitor(node, **kwargs)\n",
      "  File \"c:\\users\\wrzes\\pycharmprojects\\nbawoj\\venv\\lib\\site-packages\\pandas\\core\\computation\\expr.py\", line 619, in visit_Assign\n",
      "    raise ValueError(\"cannot assign without a target object\")\n",
      "ValueError: cannot assign without a target object\n"
     ]
    }
   ],
   "source": [
    "show(pd.DataFrame(scored_bets_results))\n"
   ]
  },
  {
   "cell_type": "code",
   "execution_count": null,
   "id": "21254ef9-7e12-498f-8ca7-924182717349",
   "metadata": {},
   "outputs": [],
   "source": [
    "df = pd.DataFrame(scored_bets_results)\n",
    "pd.read_csv('bets_results.csv').append(df).drop_duplicates().to_csv('bets_results.csv', index=False)"
   ]
  },
  {
   "cell_type": "code",
   "execution_count": null,
   "id": "19bced60-3d8c-4f38-ab52-eab9b6b8765c",
   "metadata": {},
   "outputs": [],
   "source": [
    "import pprint\n",
    "pp = pprint.PrettyPrinter(indent=4)\n",
    "s_bets = stored_bets()\n",
    "analyzed_bets = s_bets[s_bets['changed_date']<'2022-02-07']\n",
    "#pp.pprint(todays_bets)\n",
    "scored_bets_results = provide_results_with_bet_scoring(provide_stored_bet_results(analyzed_bets))\n",
    "show(pd.DataFrame(scored_bets_results))"
   ]
  },
  {
   "cell_type": "code",
   "execution_count": 3,
   "id": "3155d19c-c95c-47b1-ac67-b0412d338356",
   "metadata": {},
   "outputs": [
    {
     "name": "stderr",
     "output_type": "stream",
     "text": [
      "PandasGUI INFO — pandasgui.gui — Opening PandasGUI\n"
     ]
    },
    {
     "data": {
      "text/plain": [
       "<pandasgui.gui.PandasGui at 0x156a36015e0>"
      ]
     },
     "execution_count": 3,
     "metadata": {},
     "output_type": "execute_result"
    }
   ],
   "source": [
    "show(pd.DataFrame(this_season_analysis(bets)))"
   ]
  },
  {
   "cell_type": "code",
   "execution_count": null,
   "id": "d9b75cfa-ec58-4096-a080-3317bb375464",
   "metadata": {},
   "outputs": [],
   "source": [
    "todays_bets = stored_bets[stored_bets['changed_date']>'2022-01-22']"
   ]
  },
  {
   "cell_type": "code",
   "execution_count": null,
   "id": "50002dae-5fe4-4fb2-ad14-b349efc7bc4c",
   "metadata": {},
   "outputs": [],
   "source": [
    "dicts = provide_bet_results()\n",
    "df = pd.DataFrame(dicts)"
   ]
  },
  {
   "cell_type": "code",
   "execution_count": 18,
   "id": "894e9710-07cf-4988-868d-8696430196c7",
   "metadata": {},
   "outputs": [
    {
     "name": "stderr",
     "output_type": "stream",
     "text": [
      "PandasGUI INFO — pandasgui.gui — Opening PandasGUI\n"
     ]
    },
    {
     "data": {
      "text/plain": [
       "<pandasgui.gui.PandasGui at 0x280aed02700>"
      ]
     },
     "execution_count": 18,
     "metadata": {},
     "output_type": "execute_result"
    }
   ],
   "source": [
    "a = pd.DataFrame(scored_bets_results)\n",
    "show(a)"
   ]
  },
  {
   "cell_type": "code",
   "execution_count": null,
   "id": "2f231eb4-1a66-421c-bfbc-e584b4e505c2",
   "metadata": {},
   "outputs": [],
   "source": [
    "scoring = bets_scoring_df(bets)\n",
    "show(scoring)"
   ]
  },
  {
   "cell_type": "code",
   "execution_count": 4,
   "id": "c6f8e42b-9d02-41ed-9636-dd4b89db464c",
   "metadata": {},
   "outputs": [
    {
     "name": "stderr",
     "output_type": "stream",
     "text": [
      "C:\\Users\\wrzes\\PycharmProjects\\nbawoj\\bet_analizator.py:211: SettingWithCopyWarning:\n",
      "\n",
      "\n",
      "A value is trying to be set on a copy of a slice from a DataFrame.\n",
      "Try using .loc[row_indexer,col_indexer] = value instead\n",
      "\n",
      "See the caveats in the documentation: https://pandas.pydata.org/pandas-docs/stable/user_guide/indexing.html#returning-a-view-versus-a-copy\n",
      "\n",
      "C:\\Users\\wrzes\\PycharmProjects\\nbawoj\\bet_analizator.py:213: SettingWithCopyWarning:\n",
      "\n",
      "\n",
      "A value is trying to be set on a copy of a slice from a DataFrame.\n",
      "Try using .loc[row_indexer,col_indexer] = value instead\n",
      "\n",
      "See the caveats in the documentation: https://pandas.pydata.org/pandas-docs/stable/user_guide/indexing.html#returning-a-view-versus-a-copy\n",
      "\n",
      "C:\\Users\\wrzes\\PycharmProjects\\nbawoj\\bet_analizator.py:214: SettingWithCopyWarning:\n",
      "\n",
      "\n",
      "A value is trying to be set on a copy of a slice from a DataFrame.\n",
      "Try using .loc[row_indexer,col_indexer] = value instead\n",
      "\n",
      "See the caveats in the documentation: https://pandas.pydata.org/pandas-docs/stable/user_guide/indexing.html#returning-a-view-versus-a-copy\n",
      "\n",
      "PandasGUI INFO — pandasgui.gui — Opening PandasGUI\n"
     ]
    },
    {
     "data": {
      "text/plain": [
       "<pandasgui.gui.PandasGui at 0x17e1f46c700>"
      ]
     },
     "execution_count": 4,
     "metadata": {},
     "output_type": "execute_result"
    }
   ],
   "source": [
    "player_stat_df = players_in_bets(bets)\n",
    "#show(player_stat_df[player_stat_df['player_name'] =='PattyMills'])\n",
    "show(player_stat_df)"
   ]
  },
  {
   "cell_type": "code",
   "execution_count": null,
   "id": "bfcca307-a120-4719-9c1e-24c3671e371f",
   "metadata": {},
   "outputs": [],
   "source": [
    "show(this_season_analysis(bets))"
   ]
  },
  {
   "cell_type": "code",
   "execution_count": null,
   "id": "6a2b62f0-8063-4731-b527-035870d2c013",
   "metadata": {},
   "outputs": [],
   "source": [
    "bet = bets[0]\n",
    "players[(players['player_name']==bet['name_ESPN']) & (players['Date']==bet['changed_date'][0:10])]"
   ]
  },
  {
   "cell_type": "code",
   "execution_count": null,
   "id": "ac7661a1-6afe-4767-91b4-c4232e76b6ce",
   "metadata": {},
   "outputs": [],
   "source": [
    "scoring['score_sum'] = scoring['over_rtg'] - scoring['under_rtg']"
   ]
  },
  {
   "cell_type": "code",
   "execution_count": null,
   "id": "7f279a04-9978-436a-b840-3f7168212119",
   "metadata": {},
   "outputs": [],
   "source": [
    "show(scoring)\n"
   ]
  },
  {
   "cell_type": "markdown",
   "id": "2a20953e-7a97-45c7-9873-b9e15a11540e",
   "metadata": {
    "jp-MarkdownHeadingCollapsed": true,
    "tags": []
   },
   "source": [
    "# Players dashboard\n",
    "## last_x_games(number_of_games) -> graphs last x games (home - dotted blue, away - dotted red) \n",
    "## weekly graphs of ARP\n",
    "## how player performs agains teams assigned to defensive tier\n",
    "### defensive tiers: division is based on following descriptive assumptions\n",
    "#### 1-4 Finals contenders\n",
    "#### 5-12 Playoffs contenders\n",
    "#### 13-22 Playoff possible\n",
    "#### 23-30 Table bottom\n",
    "\n"
   ]
  },
  {
   "cell_type": "code",
   "execution_count": null,
   "id": "a51396f8-e62e-4bae-a418-69e05e799541",
   "metadata": {},
   "outputs": [],
   "source": [
    "bets"
   ]
  }
 ],
 "metadata": {
  "kernelspec": {
   "display_name": "Python 3 (ipykernel)",
   "language": "python",
   "name": "python3"
  },
  "language_info": {
   "codemirror_mode": {
    "name": "ipython",
    "version": 3
   },
   "file_extension": ".py",
   "mimetype": "text/x-python",
   "name": "python",
   "nbconvert_exporter": "python",
   "pygments_lexer": "ipython3",
   "version": "3.9.6"
  }
 },
 "nbformat": 4,
 "nbformat_minor": 5
}
