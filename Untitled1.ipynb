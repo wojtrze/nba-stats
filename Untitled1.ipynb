{
 "cells": [
  {
   "cell_type": "code",
   "execution_count": 1,
   "id": "778d4da9-a113-4507-8974-e597ec068917",
   "metadata": {},
   "outputs": [],
   "source": [
    "# This is a sample Python script.\n",
    "import re\n",
    "from random import randint\n",
    "from time import sleep\n",
    "from pandasgui import show\n",
    "\n",
    "# import link as link\n",
    "import requests\n",
    "from bs4 import BeautifulSoup\n",
    "import pandas as pd\n",
    "\n",
    "headers = {'User-Agent': 'Mozilla/5.0 (Windows NT 6.1; WOW64; rv:20.0) Gecko/20100101 Firefox/20.0'}\n",
    "\n",
    "# Press Shift+F10 to execute it or replace it with your code.\n",
    "# Press Double Shift to search everywhere for classes, files, tool windows, actions, and settings.\n",
    "\n",
    "\n",
    "def get_game_boxscores(game_id, home_or_away):\n",
    "    url = f'https://www.espn.com/nba/boxscore?gameId={game_id}'\n",
    "    sleep(randint(5, 7))\n",
    "    page = requests.get(url, headers)\n",
    "    soup = BeautifulSoup(page.text, 'html.parser')\n",
    "    table_body = soup.find_all('table')\n",
    "    if home_or_away == 'home': result_df = pd.read_html(str(table_body))[1]\n",
    "    if home_or_away == 'away': result_df = pd.read_html(str(table_body))[2]\n",
    "    return result_df\n",
    "\n",
    "\n",
    "def teams_ids():\n",
    "    url = 'https://www.espn.com/nba/teams'\n",
    "    sleep(randint(5, 7))\n",
    "    page = requests.get(url, headers)\n",
    "    soup = BeautifulSoup(page.text, 'html.parser')\n",
    "    team_links = soup.find_all('a', attrs={'href': re.compile(\"^/nba/team/stats/_/name/\")})\n",
    "    return [f'{link.get(\"href\").split(\"/\")[-2]}' for link in team_links]\n",
    "\n",
    "\n",
    "# Press the green button in the gutter to run the script.\n",
    "def player_ids_for_team(team_id):\n",
    "    sleep(randint(5, 15))\n",
    "    team_page = requests.get(f'https://www.espn.com/nba/team/roster/_/name/{team_id}', headers)\n",
    "    soup = BeautifulSoup(team_page.text, 'html.parser')\n",
    "    player_links = soup.find_all('a', attrs={'href': re.compile(\"^https://www.espn.com/nba/player/_/id/\")})\n",
    "    player_ids = {}\n",
    "    player_ids = [f'{link.get(\"href\").split(\"/\")[-2]}' for link in player_links]\n",
    "    # return dict.fromkeys(player_ids)\n",
    "    player_ids = list(dict.fromkeys(player_ids)) # removes duplicates\n",
    "    return player_ids\n",
    "\n",
    "def player_gamelog_url(player_id):\n",
    "    return f'https://www.espn.com/nba/player/gamelog/_/id/{player_id}'\n",
    "\n",
    "def scrap_gamelog_page(players_gamelog_url, season_start_yyyy):\n",
    "\n",
    "    #players_gamelog_url = f\"https://www.espn.com/nba/player/gamelog/_/id/{player_id}/type/nba/year/{season_start_yyyy}\"\n",
    "    sleep(randint(10, 20))\n",
    "    pandas_html = pd.read_html(players_gamelog_url)\n",
    "\n",
    "    # remove rubbish from each table\n",
    "    filtered_gamelog = pd.DataFrame()\n",
    "    for pd_table in pandas_html:\n",
    "        if 'Date' not in pd_table.columns:\n",
    "            continue\n",
    "        filt = (~pd_table['Date'].str.contains(\n",
    "            'acquired|Finals|Play-In|Game|Conference|RISING|PRESEASON|january|february|march|april|may|june|july|august|september|october|november|december',\n",
    "            na=False, case=False))\n",
    "        current_dataframe = pd_table[filt]\n",
    "        filtered_gamelog = pd.concat([filtered_gamelog, current_dataframe])\n",
    "    if len(filtered_gamelog) == 0:\n",
    "        return filtered_gamelog\n",
    "\n",
    "    #filtered_gamelog.reindex()\n",
    "    filtered_gamelog[['FGM', 'FGA']] = filtered_gamelog['FG'].str.split('-', 1, expand=True)\n",
    "    filtered_gamelog[['3PM', '3PA']] = filtered_gamelog['3PT'].str.split('-', 1, expand=True)\n",
    "    filtered_gamelog[['FTM', 'FTA']] = filtered_gamelog['FT'].str.split('-', 1, expand=True)\n",
    "    filtered_gamelog.drop('FG', axis=1, inplace=True)\n",
    "    filtered_gamelog.drop('3PT', axis=1, inplace=True)\n",
    "    filtered_gamelog.drop('FT', axis=1, inplace=True)\n",
    "\n",
    "    filtered_gamelog['type'] = 'home'\n",
    "    filtered_gamelog.loc[filtered_gamelog['OPP'].str.contains('@', na=False), 'type'] = 'away'\n",
    "\n",
    "    filtered_gamelog['OPP'] = filtered_gamelog['OPP'].str.replace('vs', '')\n",
    "    filtered_gamelog['OPP'] = filtered_gamelog['OPP'].str.replace('@', '')\n",
    "\n",
    "    filtered_gamelog[['Day', 'mm-dd']] = filtered_gamelog['Date'].str.split(' ', 1, expand=True)\n",
    "    filtered_gamelog.drop('Date', axis=1, inplace=True)\n",
    "    filtered_gamelog.drop('Day', axis=1, inplace=True)\n",
    "    # #filtered_gamelog.loc[int(str(filtered_gamelog['mm-dd']).str.split('/', 1, expand=True)[0]) > 8, 'year'] = f'{season_start_yyyy}'\n",
    "    # if int(filtered_gamelog['mm-dd'].str.split('/', 1, expand=True)[0]) < 8:\n",
    "    #     filtered_gamelog['mm-dd'] = filtered_gamelog['mm-dd'] + '/2020'\n",
    "    #filtered_gamelog['mm-dd'] = filtered_gamelog['mm-dd'] + '/2020'\n",
    "    filtered_gamelog[['mm', 'dd']] = filtered_gamelog['mm-dd'].str.split('/', 1, expand=True)\n",
    "    filtered_gamelog['mm'] = pd.to_numeric(filtered_gamelog['mm'])\n",
    "    filtered_gamelog.loc[filtered_gamelog['mm'] >= 9, 'yyyy'] =  f'/{season_start_yyyy}'\n",
    "    filtered_gamelog.loc[filtered_gamelog['mm'] < 9, 'yyyy'] = f'/{int(season_start_yyyy)+1}'\n",
    "    filtered_gamelog['Date'] = filtered_gamelog['mm-dd'] + filtered_gamelog['yyyy']\n",
    "    #filtered_gamelog.loc[filtered_gamelog['mm-dd'].str.startswith(['1/', '2/', '3/', '4/', '5/', '6/', '7/', '8/'], na=False), 'mm-dd'] = filtered_gamelog['mm-dd']+ '/2021'\n",
    "\n",
    "    filtered_gamelog['Date'] = pd.to_datetime(filtered_gamelog['Date'])\n",
    "    filtered_gamelog.drop(['mm', 'mm-dd', 'dd', 'yyyy'], axis=1, inplace=True)\n",
    "    filtered_gamelog['MIN'] = pd.to_numeric(filtered_gamelog['MIN'])\n",
    "    filtered_gamelog['REB'] = pd.to_numeric(filtered_gamelog['REB'])\n",
    "    filtered_gamelog['AST'] = pd.to_numeric(filtered_gamelog['AST'])\n",
    "    filtered_gamelog['BLK'] = pd.to_numeric(filtered_gamelog['BLK'])\n",
    "    filtered_gamelog['STL'] = pd.to_numeric(filtered_gamelog['STL'])\n",
    "    filtered_gamelog['PF'] = pd.to_numeric(filtered_gamelog['PF'])\n",
    "    filtered_gamelog['TO'] = pd.to_numeric(filtered_gamelog['TO'])\n",
    "    filtered_gamelog['PTS'] = pd.to_numeric(filtered_gamelog['PTS'])\n",
    "    filtered_gamelog['FGM'] = pd.to_numeric(filtered_gamelog['FGM'])\n",
    "    filtered_gamelog['FGA'] = pd.to_numeric(filtered_gamelog['FGA'])\n",
    "    filtered_gamelog['3PM'] = pd.to_numeric(filtered_gamelog['3PM'])\n",
    "    filtered_gamelog['3PA'] = pd.to_numeric(filtered_gamelog['3PA'])\n",
    "    filtered_gamelog['FTM'] = pd.to_numeric(filtered_gamelog['FTM'])\n",
    "    filtered_gamelog['FTA'] = pd.to_numeric(filtered_gamelog['FTA'])\n",
    "    filtered_gamelog['season_id'] = season_start_yyyy\n",
    "    print(f'Gamelog from {season_start_yyyy} fetched')\n",
    "    return filtered_gamelog\n",
    "\n",
    "\n",
    "def retrieve_player_name(url):\n",
    "    sleep(randint(5, 7))\n",
    "    gamelog_response = requests.get(url, headers)\n",
    "    bs_html = BeautifulSoup(gamelog_response.text, 'html.parser')\n",
    "    player_name = bs_html.find_all(\"h1\", {\"class\": \"PlayerHeader__Name\"})[0].text.strip()\n",
    "    return player_name\n",
    "\n",
    "\n",
    "\n",
    "\n",
    "def player_gamelog(player_id):\n",
    "    gamelog = pd.DataFrame()\n",
    "    # beginning of season, makes no sense to look here\n",
    "    # current_season_gamelog_1 = scrap_gamelog_page(f\"https://www.espn.com/nba/player/gamelog/_/id/{player_id}\",\n",
    "    #                                               season_start_yyyy='2020')\n",
    "    # gamelog = pd.concat([gamelog, current_season_gamelog_1])\n",
    "    current_season_gamelog_1 = scrap_gamelog_page(\n",
    "        f\"https://www.espn.com/nba/player/gamelog/_/id/{player_id}/type/nba/year/2021\", season_start_yyyy='2020')\n",
    "    gamelog = pd.concat([gamelog, current_season_gamelog_1])\n",
    "    current_season_gamelog_2 = scrap_gamelog_page(\n",
    "        f\"https://www.espn.com/nba/player/gamelog/_/id/{player_id}/type/nba/year/2020\", season_start_yyyy='2019')\n",
    "    gamelog = pd.concat([gamelog, current_season_gamelog_2])\n",
    "    current_season_gamelog_3 = scrap_gamelog_page(\n",
    "        f\"https://www.espn.com/nba/player/gamelog/_/id/{player_id}/type/nba/year/2019\", season_start_yyyy='2018')\n",
    "    gamelog = pd.concat([gamelog, current_season_gamelog_3])\n",
    "    current_season_gamelog_4 = scrap_gamelog_page(\n",
    "        f\"https://www.espn.com/nba/player/gamelog/_/id/{player_id}/type/nba/year/2018\", season_start_yyyy='2017')\n",
    "    gamelog = pd.concat([gamelog, current_season_gamelog_4])\n",
    "    gamelog['player_id'] = player_id\n",
    "    gamelog['player_name'] = retrieve_player_name(f\"https://www.espn.com/nba/player/gamelog/_/id/{player_id}\")\n",
    "    gamelog.reindex()\n",
    "    return gamelog\n",
    "\n",
    "\n",
    "def roster_page_url(team_id):\n",
    "    pass\n",
    "\n",
    "\n",
    "def get_gamelog_with_soup(player_id):\n",
    "    sleep(randint(5, 7))\n",
    "    gamelog_response = requests.get(f\"https://www.espn.com/nba/player/gamelog/_/id/{player_id}\", headers)\n",
    "    bs_html = BeautifulSoup(gamelog_response.text, 'html.parser')\n",
    "    all_log_tables = bs_html.find_all(\"div\", {\"class\": \"mb5\"})\n",
    "    partial_log_table = all_log_tables[1]  # przykładowa\n",
    "    table_rows = partial_log_table.find_all('tr', attrs={'class': 'mb5'})\n",
    "    l = []\n",
    "    for tr in table_rows:\n",
    "        td = tr.find_all('td')\n",
    "        row = [tr.text for tr in td]\n",
    "        l.append(row)\n",
    "    return pd.DataFrame(l)\n",
    "\n",
    "    def starting_lineup(date, game_id, team_id):\n",
    "        return {'1pg': 'KyrieIrving',\n",
    "                '2sg': 'JamesHarden',\n",
    "                '3sf': 'KevinDurant',\n",
    "                '4pf': 'BruceBrown',\n",
    "                '5c': 'NicolasClaxton'}\n",
    "\n",
    "\n",
    "# if __name__ == '__main__':\n",
    "#     #pd.set_option('display.max_columns', None)\n",
    "#     pd.set_option('display.max_rows', None)\n",
    "#     league_gamelogs = pd.DataFrame()\n",
    "\n",
    "#     teams = teams_ids()\n",
    "#     print(teams)\n",
    "#     for team_id in teams:\n",
    "#         player_id_list = player_ids_for_team(team_id)\n",
    "#         print(f'for team {team_id} scrapping data for players: {player_id_list}')\n",
    "#         for player_espn_id in player_id_list:\n",
    "#             print(f'processing player: {player_espn_id} from {team_id}')\n",
    "#             current_players_gamelog = player_gamelog(player_espn_id)\n",
    "#             current_players_gamelog['team'] = team_id\n",
    "#             league_gamelogs = pd.concat([league_gamelogs, current_players_gamelog])\n",
    "#             print(current_players_gamelog)\n",
    "\n",
    "\n",
    "#     # print(team_page_url(teams_ids()[3]))\n",
    "#     df = pd.DataFrame(league_gamelogs)\n",
    "#     df.to_csv('all_nba_players.csv')\n",
    "#     # print(df)\n",
    "#     # print(players_gamelogs(teams_stat_pages()[1]))\n",
    "#     # print(get_game_boxscores('401365892', 'home'))\n",
    "\n",
    "\n",
    "\n",
    "#     # b = scrap_gamelog_page(f\"https://www.espn.com/nba/player/gamelog/_/id/4277919/type/nba/year/2020\", season_start_yyyy='2020')\n",
    "#     # a = player_gamelog('4277919')\n",
    "\n",
    "#     # player_ids = ['4277919']  # get_all_players_ids\n",
    "#     # all_players_data = pd.DataFrame()\n",
    "#     # for player_id in player_ids:\n",
    "#     #     all_players_data = pd.concat([all_players_data, player_gamelog(player_id)])\n",
    "#     # print(all_players_data)\n"
   ]
  },
  {
   "cell_type": "code",
   "execution_count": 33,
   "id": "d7bfad59-4e65-4fc1-89e7-4ebbc7a3635d",
   "metadata": {},
   "outputs": [
    {
     "name": "stdout",
     "output_type": "stream",
     "text": [
      "Gamelog from 2020 fetched\n",
      "Gamelog from 2019 fetched\n",
      "Gamelog from 2018 fetched\n",
      "Gamelog from 2017 fetched\n"
     ]
    },
    {
     "data": {
      "text/plain": [
       "<bound method NDFrame.head of 0    JaylenBrown\n",
       "0    JaylenBrown\n",
       "1    JaylenBrown\n",
       "2    JaylenBrown\n",
       "3    JaylenBrown\n",
       "        ...     \n",
       "6    JaylenBrown\n",
       "0    JaylenBrown\n",
       "1    JaylenBrown\n",
       "2    JaylenBrown\n",
       "4    JaylenBrown\n",
       "Name: player_name, Length: 317, dtype: object>"
      ]
     },
     "execution_count": 33,
     "metadata": {},
     "output_type": "execute_result"
    }
   ],
   "source": [
    "a=player_gamelog('3917376')\n",
    "a.player_name.head"
   ]
  },
  {
   "cell_type": "code",
   "execution_count": 35,
   "id": "6d22283e-662b-4b87-9c1e-d610774796db",
   "metadata": {},
   "outputs": [
    {
     "data": {
      "text/plain": [
       "'[vs all] ARP mean: 24.902208201892744;  ARP median: 25.0;       PTS mean:  17.55205047318612;  PTS median: 18.0       AST mean: 1.9684542586750788;  AST median: 2.0'"
      ]
     },
     "execution_count": 35,
     "metadata": {},
     "output_type": "execute_result"
    }
   ],
   "source": [
    "f'[vs all] ARP mean: {a[\"ARP\"].mean()};  ARP median: {a[\"ARP\"].median()};       PTS mean:  {a[\"PTS\"].mean()};  PTS median: {a[\"PTS\"].median()}       AST mean: {a[\"AST\"].mean()};  AST median: {a[\"AST\"].median()}' "
   ]
  },
  {
   "cell_type": "code",
   "execution_count": 36,
   "id": "e22b003b-282b-4eef-b4a7-efae677eb316",
   "metadata": {},
   "outputs": [
    {
     "data": {
      "text/plain": [
       "'[vs NY] ARP mean: 25.818181818181817;  ARP median: 26.0;       PTS mean:  19.545454545454547;  PTS median: 21.0       AST mean: 1.6363636363636365;  AST median: 2.0'"
      ]
     },
     "execution_count": 36,
     "metadata": {},
     "output_type": "execute_result"
    }
   ],
   "source": [
    "f'[vs {opponent}] ARP mean: {b[\"ARP\"].mean()};  ARP median: {b[\"ARP\"].median()};       PTS mean:  {b[\"PTS\"].mean()};  PTS median: {b[\"PTS\"].median()}       AST mean: {b[\"AST\"].mean()};  AST median: {b[\"AST\"].median()}'"
   ]
  },
  {
   "cell_type": "code",
   "execution_count": 34,
   "id": "60144f92-81ca-4bb3-af0d-d284ae4d4edb",
   "metadata": {},
   "outputs": [
    {
     "data": {
      "text/plain": [
       "<AxesSubplot:xlabel='OPP'>"
      ]
     },
     "execution_count": 34,
     "metadata": {},
     "output_type": "execute_result"
    },
    {
     "data": {
      "image/png": "[encoded data removed]",
      "text/plain": [
       "<Figure size 432x288 with 1 Axes>"
      ]
     },
     "metadata": {
      "needs_background": "light"
     },
     "output_type": "display_data"
    },
    {
     "data": {
      "image/png": "[encoded data removed]",
      "text/plain": [
       "<Figure size 1440x504 with 1 Axes>"
      ]
     },
     "metadata": {
      "needs_background": "light"
     },
     "output_type": "display_data"
    },
    {
     "data": {
      "image/png": "[encoded data removed]",
      "text/plain": [
       "<Figure size 1440x504 with 1 Axes>"
      ]
     },
     "metadata": {
      "needs_background": "light"
     },
     "output_type": "display_data"
    }
   ],
   "source": [
    "a['ARP'] = a['AST'] + a['REB'] + a['PTS']\n",
    "a['P36'] = a['PTS']/a['MIN']*36\n",
    "a['ARP36'] = a['ARP']/a['MIN']*36\n",
    "opponent ='NY'                   \n",
    "b=a[a['OPP']==opponent]\n",
    "league_distribution = a.groupby(['OPP']).median().sort_values(by=['ARP'])\n",
    "games_vs_opponent = b.sort_values(by=['Date'])\n",
    "games_vs_all = a.sort_values(by=['Date'])\n",
    "b['ARP'].hist(density=True, histtype='step')\n",
    "a['ARP'].hist(density=True, histtype='step')\n",
    "\n",
    "games_vs_opponent.sort_values(by=['Date']).plot(x = \"Date\", y=[\"PTS\", \"ARP\", \"ARP36\", \"MIN\"], grid=True, figsize=(20,7), kind='bar', ylim=(0,50))\n",
    "league_distribution.sort_values(by='ARP').plot(y=[\"PTS\", \"ARP\", \"ARP36\", \"MIN\"], grid=True, figsize=(20,7), kind='bar', ylim=(0,40)) "
   ]
  },
  {
   "cell_type": "code",
   "execution_count": 39,
   "id": "ddecc72c-5d40-4962-84f2-463eb09c2d45",
   "metadata": {},
   "outputs": [
    {
     "name": "stdout",
     "output_type": "stream",
     "text": [
      "Collecting pandasgui\n",
      "  Downloading pandasgui-0.2.13.tar.gz (215 kB)\n",
      "Requirement already satisfied: pandas in c:\\users\\wrzes\\pycharmprojects\\nbawoj\\venv\\lib\\site-packages (from pandasgui) (1.3.3)\n",
      "Requirement already satisfied: numpy in c:\\users\\wrzes\\pycharmprojects\\nbawoj\\venv\\lib\\site-packages (from pandasgui) (1.21.2)\n",
      "Collecting PyQt5\n",
      "  Downloading PyQt5-5.15.5-cp36-abi3-win_amd64.whl (6.7 MB)\n",
      "Collecting PyQt5-sip\n",
      "  Downloading PyQt5_sip-12.9.0-cp39-cp39-win_amd64.whl (63 kB)\n",
      "Collecting PyQtWebEngine\n",
      "  Downloading PyQtWebEngine-5.15.5-cp36-abi3-win_amd64.whl (181 kB)\n",
      "Collecting plotly\n",
      "  Downloading plotly-5.3.1-py2.py3-none-any.whl (23.9 MB)\n",
      "Collecting wordcloud\n",
      "  Downloading wordcloud-1.8.1.tar.gz (220 kB)\n",
      "Requirement already satisfied: setuptools in c:\\users\\wrzes\\pycharmprojects\\nbawoj\\venv\\lib\\site-packages (from pandasgui) (57.0.0)\n",
      "Collecting appdirs\n",
      "  Using cached appdirs-1.4.4-py2.py3-none-any.whl (9.6 kB)\n",
      "Collecting pynput\n",
      "  Downloading pynput-1.7.4-py2.py3-none-any.whl (87 kB)\n",
      "Requirement already satisfied: IPython in c:\\users\\wrzes\\pycharmprojects\\nbawoj\\venv\\lib\\site-packages (from pandasgui) (7.28.0)\n",
      "Collecting pyarrow\n",
      "  Downloading pyarrow-5.0.0-cp39-cp39-win_amd64.whl (14.5 MB)\n",
      "Collecting astor\n",
      "  Downloading astor-0.8.1-py2.py3-none-any.whl (27 kB)\n",
      "Note: you may need to restart the kernel to use updated packages.\n"
     ]
    },
    {
     "name": "stderr",
     "output_type": "stream",
     "text": [
      "  ERROR: Command errored out with exit status 1:\n",
      "   command: 'c:\\users\\wrzes\\pycharmprojects\\nbawoj\\venv\\scripts\\python.exe' -u -c 'import io, os, sys, setuptools, tokenize; sys.argv[0] = '\"'\"'C:\\\\Users\\\\wrzes\\\\AppData\\\\Local\\\\Temp\\\\pip-install-vv4fg_y5\\\\wordcloud_0eecf187085048deae6cb7e9d2fc989f\\\\setup.py'\"'\"'; __file__='\"'\"'C:\\\\Users\\\\wrzes\\\\AppData\\\\Local\\\\Temp\\\\pip-install-vv4fg_y5\\\\wordcloud_0eecf187085048deae6cb7e9d2fc989f\\\\setup.py'\"'\"';f = getattr(tokenize, '\"'\"'open'\"'\"', open)(__file__) if os.path.exists(__file__) else io.StringIO('\"'\"'from setuptools import setup; setup()'\"'\"');code = f.read().replace('\"'\"'\\r\\n'\"'\"', '\"'\"'\\n'\"'\"');f.close();exec(compile(code, __file__, '\"'\"'exec'\"'\"'))' bdist_wheel -d 'C:\\Users\\wrzes\\AppData\\Local\\Temp\\pip-wheel-3ta_t9v0'\n",
      "       cwd: C:\\Users\\wrzes\\AppData\\Local\\Temp\\pip-install-vv4fg_y5\\wordcloud_0eecf187085048deae6cb7e9d2fc989f\\\n",
      "  Complete output (20 lines):\n",
      "  running bdist_wheel\n",
      "  running build\n",
      "  running build_py\n",
      "  creating build\n",
      "  creating build\\lib.win-amd64-3.9\n",
      "  creating build\\lib.win-amd64-3.9\\wordcloud\n",
      "  copying wordcloud\\color_from_image.py -> build\\lib.win-amd64-3.9\\wordcloud\n",
      "  copying wordcloud\\tokenization.py -> build\\lib.win-amd64-3.9\\wordcloud\n",
      "  copying wordcloud\\wordcloud.py -> build\\lib.win-amd64-3.9\\wordcloud\n",
      "  copying wordcloud\\wordcloud_cli.py -> build\\lib.win-amd64-3.9\\wordcloud\n",
      "  copying wordcloud\\_version.py -> build\\lib.win-amd64-3.9\\wordcloud\n",
      "  copying wordcloud\\__init__.py -> build\\lib.win-amd64-3.9\\wordcloud\n"
     ]
    },
    {
     "name": "stdout",
     "output_type": "stream",
     "text": [
      "Collecting typing-extensions\n",
      "  Using cached typing_extensions-3.10.0.2-py3-none-any.whl (26 kB)\n",
      "Collecting qtstylish>=0.1.2\n",
      "  Downloading qtstylish-0.1.5.tar.gz (983 kB)\n",
      "Requirement already satisfied: pickleshare in c:\\users\\wrzes\\pycharmprojects\\nbawoj\\venv\\lib\\site-packages (from IPython->pandasgui) (0.7.5)\n",
      "Requirement already satisfied: traitlets>=4.2 in c:\\users\\wrzes\\pycharmprojects\\nbawoj\\venv\\lib\\site-packages (from IPython->pandasgui) (5.1.0)\n",
      "Requirement already satisfied: decorator in c:\\users\\wrzes\\pycharmprojects\\nbawoj\\venv\\lib\\site-packages (from IPython->pandasgui) (5.1.0)\n",
      "Requirement already satisfied: pygments in c:\\users\\wrzes\\pycharmprojects\\nbawoj\\venv\\lib\\site-packages (from IPython->pandasgui) (2.10.0)\n",
      "Requirement already satisfied: colorama in c:\\users\\wrzes\\pycharmprojects\\nbawoj\\venv\\lib\\site-packages (from IPython->pandasgui) (0.4.4)\n",
      "Requirement already satisfied: backcall in c:\\users\\wrzes\\pycharmprojects\\nbawoj\\venv\\lib\\site-packages (from IPython->pandasgui) (0.2.0)\n",
      "Requirement already satisfied: matplotlib-inline in c:\\users\\wrzes\\pycharmprojects\\nbawoj\\venv\\lib\\site-packages (from IPython->pandasgui) (0.1.3)\n",
      "Requirement already satisfied: prompt-toolkit!=3.0.0,!=3.0.1,<3.1.0,>=2.0.0 in c:\\users\\wrzes\\pycharmprojects\\nbawoj\\venv\\lib\\site-packages (from IPython->pandasgui) (3.0.20)\n",
      "Requirement already satisfied: jedi>=0.16 in c:\\users\\wrzes\\pycharmprojects\\nbawoj\\venv\\lib\\site-packages (from IPython->pandasgui) (0.18.0)\n",
      "Requirement already satisfied: parso<0.9.0,>=0.8.0 in c:\\users\\wrzes\\pycharmprojects\\nbawoj\\venv\\lib\\site-packages (from jedi>=0.16->IPython->pandasgui) (0.8.2)\n",
      "Requirement already satisfied: wcwidth in c:\\users\\wrzes\\pycharmprojects\\nbawoj\\venv\\lib\\site-packages (from prompt-toolkit!=3.0.0,!=3.0.1,<3.1.0,>=2.0.0->IPython->pandasgui) (0.2.5)\n",
      "Requirement already satisfied: python-dateutil>=2.7.3 in c:\\users\\wrzes\\pycharmprojects\\nbawoj\\venv\\lib\\site-packages (from pandas->pandasgui) (2.8.2)\n",
      "Requirement already satisfied: pytz>=2017.3 in c:\\users\\wrzes\\pycharmprojects\\nbawoj\\venv\\lib\\site-packages (from pandas->pandasgui) (2021.3)\n",
      "Requirement already satisfied: six>=1.5 in c:\\users\\wrzes\\pycharmprojects\\nbawoj\\venv\\lib\\site-packages (from python-dateutil>=2.7.3->pandas->pandasgui) (1.16.0)\n",
      "Collecting tenacity>=6.2.0\n",
      "  Downloading tenacity-8.0.1-py3-none-any.whl (24 kB)\n",
      "Collecting PyQt5-Qt5>=5.15.2\n",
      "  Downloading PyQt5_Qt5-5.15.2-py3-none-win_amd64.whl (50.1 MB)\n",
      "Collecting PyQtWebEngine-Qt5>=5.15.2\n",
      "  Downloading PyQtWebEngine_Qt5-5.15.2-py3-none-win_amd64.whl (60.0 MB)\n",
      "Requirement already satisfied: pillow in c:\\users\\wrzes\\pycharmprojects\\nbawoj\\venv\\lib\\site-packages (from wordcloud->pandasgui) (8.3.2)\n",
      "Requirement already satisfied: matplotlib in c:\\users\\wrzes\\pycharmprojects\\nbawoj\\venv\\lib\\site-packages (from wordcloud->pandasgui) (3.4.3)\n",
      "Requirement already satisfied: kiwisolver>=1.0.1 in c:\\users\\wrzes\\pycharmprojects\\nbawoj\\venv\\lib\\site-packages (from matplotlib->wordcloud->pandasgui) (1.3.2)\n",
      "Requirement already satisfied: pyparsing>=2.2.1 in c:\\users\\wrzes\\pycharmprojects\\nbawoj\\venv\\lib\\site-packages (from matplotlib->wordcloud->pandasgui) (2.4.7)\n",
      "Requirement already satisfied: cycler>=0.10 in c:\\users\\wrzes\\pycharmprojects\\nbawoj\\venv\\lib\\site-packages (from matplotlib->wordcloud->pandasgui) (0.10.0)\n",
      "Building wheels for collected packages: pandasgui, qtstylish, wordcloud\n",
      "  Building wheel for pandasgui (setup.py): started\n",
      "  Building wheel for pandasgui (setup.py): finished with status 'done'\n",
      "  Created wheel for pandasgui: filename=pandasgui-0.2.13-py3-none-any.whl size=233725 sha256=7e4fc3aaf60dcb7498dc7501a6beb8950fe6bca7e0c43ec61456d99838c861b5\n",
      "  Stored in directory: c:\\users\\wrzes\\appdata\\local\\pip\\cache\\wheels\\41\\24\\a8\\d2a97d8b8e86f0555d40585d491538069b59ec510c088c3e90\n",
      "  Building wheel for qtstylish (setup.py): started\n",
      "  Building wheel for qtstylish (setup.py): finished with status 'done'\n",
      "  Created wheel for qtstylish: filename=qtstylish-0.1.5-py3-none-any.whl size=1029285 sha256=36c7e055e64659b1b8d9cfaa0626d7581fc16530eb81c030a090382d85076092\n",
      "  Stored in directory: c:\\users\\wrzes\\appdata\\local\\pip\\cache\\wheels\\19\\8a\\52\\dae666320add8e88d42506af29298772c51e81076676c63fd4\n",
      "  Building wheel for wordcloud (setup.py): started\n",
      "  Building wheel for wordcloud (setup.py): finished with status 'error'\n",
      "  Running setup.py clean for wordcloud\n",
      "Successfully built pandasgui qtstylish\n",
      "Failed to build wordcloud\n",
      "Installing collected packages: PyQt5-sip, PyQt5-Qt5, tenacity, PyQtWebEngine-Qt5, PyQt5, wordcloud, typing-extensions, qtstylish, PyQtWebEngine, pynput, pyarrow, plotly, astor, appdirs, pandasgui\n",
      "    Running setup.py install for wordcloud: started\n",
      "    Running setup.py install for wordcloud: finished with status 'error'\n"
     ]
    },
    {
     "name": "stderr",
     "output_type": "stream",
     "text": [
      "  copying wordcloud\\__main__.py -> build\\lib.win-amd64-3.9\\wordcloud\n",
      "  copying wordcloud\\stopwords -> build\\lib.win-amd64-3.9\\wordcloud\n",
      "  copying wordcloud\\DroidSansMono.ttf -> build\\lib.win-amd64-3.9\\wordcloud\n",
      "  UPDATING build\\lib.win-amd64-3.9\\wordcloud/_version.py\n",
      "  set build\\lib.win-amd64-3.9\\wordcloud/_version.py to '1.8.1'\n",
      "  running build_ext\n",
      "  building 'wordcloud.query_integral_image' extension\n",
      "  error: Microsoft Visual C++ 14.0 or greater is required. Get it with \"Microsoft C++ Build Tools\": https://visualstudio.microsoft.com/visual-cpp-build-tools/\n",
      "  ----------------------------------------\n",
      "  ERROR: Failed building wheel for wordcloud\n",
      "    ERROR: Command errored out with exit status 1:\n",
      "     command: 'c:\\users\\wrzes\\pycharmprojects\\nbawoj\\venv\\scripts\\python.exe' -u -c 'import io, os, sys, setuptools, tokenize; sys.argv[0] = '\"'\"'C:\\\\Users\\\\wrzes\\\\AppData\\\\Local\\\\Temp\\\\pip-install-vv4fg_y5\\\\wordcloud_0eecf187085048deae6cb7e9d2fc989f\\\\setup.py'\"'\"'; __file__='\"'\"'C:\\\\Users\\\\wrzes\\\\AppData\\\\Local\\\\Temp\\\\pip-install-vv4fg_y5\\\\wordcloud_0eecf187085048deae6cb7e9d2fc989f\\\\setup.py'\"'\"';f = getattr(tokenize, '\"'\"'open'\"'\"', open)(__file__) if os.path.exists(__file__) else io.StringIO('\"'\"'from setuptools import setup; setup()'\"'\"');code = f.read().replace('\"'\"'\\r\\n'\"'\"', '\"'\"'\\n'\"'\"');f.close();exec(compile(code, __file__, '\"'\"'exec'\"'\"'))' install --record 'C:\\Users\\wrzes\\AppData\\Local\\Temp\\pip-record-8kzahzqo\\install-record.txt' --single-version-externally-managed --compile --install-headers 'c:\\users\\wrzes\\pycharmprojects\\nbawoj\\venv\\include\\site\\python3.9\\wordcloud'\n",
      "         cwd: C:\\Users\\wrzes\\AppData\\Local\\Temp\\pip-install-vv4fg_y5\\wordcloud_0eecf187085048deae6cb7e9d2fc989f\\\n",
      "    Complete output (20 lines):\n",
      "    running install\n",
      "    running build\n",
      "    running build_py\n",
      "    creating build\n",
      "    creating build\\lib.win-amd64-3.9\n",
      "    creating build\\lib.win-amd64-3.9\\wordcloud\n",
      "    copying wordcloud\\color_from_image.py -> build\\lib.win-amd64-3.9\\wordcloud\n",
      "    copying wordcloud\\tokenization.py -> build\\lib.win-amd64-3.9\\wordcloud\n",
      "    copying wordcloud\\wordcloud.py -> build\\lib.win-amd64-3.9\\wordcloud\n",
      "    copying wordcloud\\wordcloud_cli.py -> build\\lib.win-amd64-3.9\\wordcloud\n",
      "    copying wordcloud\\_version.py -> build\\lib.win-amd64-3.9\\wordcloud\n",
      "    copying wordcloud\\__init__.py -> build\\lib.win-amd64-3.9\\wordcloud\n",
      "    copying wordcloud\\__main__.py -> build\\lib.win-amd64-3.9\\wordcloud\n",
      "    copying wordcloud\\stopwords -> build\\lib.win-amd64-3.9\\wordcloud\n",
      "    copying wordcloud\\DroidSansMono.ttf -> build\\lib.win-amd64-3.9\\wordcloud\n",
      "    UPDATING build\\lib.win-amd64-3.9\\wordcloud/_version.py\n",
      "    set build\\lib.win-amd64-3.9\\wordcloud/_version.py to '1.8.1'\n",
      "    running build_ext\n",
      "    building 'wordcloud.query_integral_image' extension\n",
      "    error: Microsoft Visual C++ 14.0 or greater is required. Get it with \"Microsoft C++ Build Tools\": https://visualstudio.microsoft.com/visual-cpp-build-tools/\n",
      "    ----------------------------------------\n",
      "ERROR: Command errored out with exit status 1: 'c:\\users\\wrzes\\pycharmprojects\\nbawoj\\venv\\scripts\\python.exe' -u -c 'import io, os, sys, setuptools, tokenize; sys.argv[0] = '\"'\"'C:\\\\Users\\\\wrzes\\\\AppData\\\\Local\\\\Temp\\\\pip-install-vv4fg_y5\\\\wordcloud_0eecf187085048deae6cb7e9d2fc989f\\\\setup.py'\"'\"'; __file__='\"'\"'C:\\\\Users\\\\wrzes\\\\AppData\\\\Local\\\\Temp\\\\pip-install-vv4fg_y5\\\\wordcloud_0eecf187085048deae6cb7e9d2fc989f\\\\setup.py'\"'\"';f = getattr(tokenize, '\"'\"'open'\"'\"', open)(__file__) if os.path.exists(__file__) else io.StringIO('\"'\"'from setuptools import setup; setup()'\"'\"');code = f.read().replace('\"'\"'\\r\\n'\"'\"', '\"'\"'\\n'\"'\"');f.close();exec(compile(code, __file__, '\"'\"'exec'\"'\"'))' install --record 'C:\\Users\\wrzes\\AppData\\Local\\Temp\\pip-record-8kzahzqo\\install-record.txt' --single-version-externally-managed --compile --install-headers 'c:\\users\\wrzes\\pycharmprojects\\nbawoj\\venv\\include\\site\\python3.9\\wordcloud' Check the logs for full command output.\n",
      "WARNING: You are using pip version 21.2.4; however, version 21.3 is available.\n",
      "You should consider upgrading via the 'c:\\users\\wrzes\\pycharmprojects\\nbawoj\\venv\\scripts\\python.exe -m pip install --upgrade pip' command.\n"
     ]
    }
   ],
   "source": [
    "pip install pandasgui\n"
   ]
  },
  {
   "cell_type": "code",
   "execution_count": null,
   "id": "3914fe81-2c1e-4988-a14a-eea1d6f919be",
   "metadata": {},
   "outputs": [],
   "source": []
  }
 ],
 "metadata": {
  "kernelspec": {
   "display_name": "Python 3 (ipykernel)",
   "language": "python",
   "name": "python3"
  },
  "language_info": {
   "codemirror_mode": {
    "name": "ipython",
    "version": 3
   },
   "file_extension": ".py",
   "mimetype": "text/x-python",
   "name": "python",
   "nbconvert_exporter": "python",
   "pygments_lexer": "ipython3",
   "version": "3.9.6"
  }
 },
 "nbformat": 4,
 "nbformat_minor": 5
}
